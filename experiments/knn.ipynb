{
 "cells": [
  {
   "cell_type": "code",
   "execution_count": 1,
   "metadata": {},
   "outputs": [],
   "source": [
    "import torch\n",
    "import torch.nn.functional as F\n",
    "from torch_geometric.datasets import QM9\n",
    "from torch_geometric.data import Batch\n",
    "from torch_cluster import knn_graph"
   ]
  },
  {
   "cell_type": "code",
   "execution_count": 2,
   "metadata": {},
   "outputs": [
    {
     "data": {
      "text/plain": [
       "DataBatch(x=[9, 11], edge_index=[2, 14], edge_attr=[14, 4], y=[2, 19], pos=[9, 3], idx=[2], name=[2], z=[9], batch=[9], ptr=[3])"
      ]
     },
     "execution_count": 2,
     "metadata": {},
     "output_type": "execute_result"
    }
   ],
   "source": [
    "dataset = QM9(\"../data/qm9\")\n",
    "batch_size = 2\n",
    "batch = Batch.from_data_list(list(dataset[:batch_size]))\n",
    "batch"
   ]
  },
  {
   "cell_type": "code",
   "execution_count": 3,
   "metadata": {},
   "outputs": [
    {
     "data": {
      "text/plain": [
       "(tensor([[-1.2700e-02,  1.0858e+00,  8.0000e-03],\n",
       "         [ 2.2000e-03, -6.0000e-03,  2.0000e-03],\n",
       "         [ 1.0117e+00,  1.4638e+00,  3.0000e-04],\n",
       "         [-5.4080e-01,  1.4475e+00, -8.7660e-01],\n",
       "         [-5.2380e-01,  1.4379e+00,  9.0640e-01],\n",
       "         [-4.0400e-02,  1.0241e+00,  6.2600e-02],\n",
       "         [ 1.7300e-02,  1.2500e-02, -2.7400e-02],\n",
       "         [ 9.1580e-01,  1.3587e+00, -2.8800e-02],\n",
       "         [-5.2030e-01,  1.3435e+00, -7.7550e-01]]),\n",
       " tensor([0, 0, 0, 0, 0, 1, 1, 1, 1]))"
      ]
     },
     "execution_count": 3,
     "metadata": {},
     "output_type": "execute_result"
    }
   ],
   "source": [
    "batch.pos, batch.batch"
   ]
  },
  {
   "cell_type": "code",
   "execution_count": 4,
   "metadata": {},
   "outputs": [],
   "source": [
    "def knn_graph_static(x, k, batch, cutoff=6.0):\n",
    "    r_ij = torch.norm(x[:, None] - x, dim=-1)\n",
    "    rows = torch.arange(batch.shape[0]).view(-1, 1)\n",
    "    cols = rows.view(1, -1)\n",
    "    mask = (rows == cols) | (batch.view(-1, 1) != batch.view(1, -1))\n",
    "    r_ij = r_ij.masked_fill(mask, cutoff)\n",
    "    r_ij = r_ij.clamp(max=cutoff)\n",
    "    vals, indices = torch.topk(r_ij, k=k, largest=False)\n",
    "    print(vals)\n",
    "    print(indices)\n",
    "    rows = rows.expand_as(indices)\n",
    "    edge_index = torch.vstack([indices.flatten(), rows.flatten()])\n",
    "    return edge_index"
   ]
  },
  {
   "cell_type": "code",
   "execution_count": 5,
   "metadata": {},
   "outputs": [
    {
     "name": "stdout",
     "output_type": "stream",
     "text": [
      "tensor([[1.0919, 1.0919, 1.0919],\n",
      "        [1.0919, 1.7831, 1.7831],\n",
      "        [1.0919, 1.7831, 1.7831],\n",
      "        [1.0919, 1.7831, 1.7831],\n",
      "        [1.0919, 1.7831, 1.7831],\n",
      "        [1.0172, 1.0172, 1.0172],\n",
      "        [1.0172, 1.6185, 1.6187],\n",
      "        [1.0172, 1.6185, 1.6187],\n",
      "        [1.0172, 1.6187, 1.6187]])\n",
      "tensor([[3, 1, 4],\n",
      "        [0, 2, 3],\n",
      "        [0, 1, 4],\n",
      "        [0, 1, 4],\n",
      "        [0, 2, 1],\n",
      "        [7, 8, 6],\n",
      "        [5, 7, 8],\n",
      "        [5, 6, 8],\n",
      "        [5, 7, 6]])\n"
     ]
    },
    {
     "data": {
      "text/plain": [
       "True"
      ]
     },
     "execution_count": 5,
     "metadata": {},
     "output_type": "execute_result"
    }
   ],
   "source": [
    "k = 3\n",
    "torch.allclose(\n",
    "    knn_graph(batch.pos, k, batch.batch), knn_graph_static(batch.pos, k, batch.batch)\n",
    ")"
   ]
  },
  {
   "cell_type": "code",
   "execution_count": 6,
   "metadata": {},
   "outputs": [
    {
     "name": "stdout",
     "output_type": "stream",
     "text": [
      "tensor([[ 1.0919,  1.0919,  1.0919,  1.0919],\n",
      "        [ 1.0919,  1.7831,  1.7831,  1.7831],\n",
      "        [ 1.0919,  1.7831,  1.7831,  1.7831],\n",
      "        [ 1.0919,  1.7831,  1.7831,  1.7831],\n",
      "        [ 1.0919,  1.7831,  1.7831,  1.7831],\n",
      "        [ 1.0172,  1.0172,  1.0172, 30.0000],\n",
      "        [ 1.0172,  1.6185,  1.6187, 30.0000],\n",
      "        [ 1.0172,  1.6185,  1.6187, 30.0000],\n",
      "        [ 1.0172,  1.6187,  1.6187, 30.0000]])\n",
      "tensor([[3, 1, 4, 2],\n",
      "        [0, 2, 3, 4],\n",
      "        [0, 1, 4, 3],\n",
      "        [0, 1, 4, 2],\n",
      "        [0, 2, 1, 3],\n",
      "        [7, 8, 6, 4],\n",
      "        [5, 7, 8, 4],\n",
      "        [5, 6, 8, 7],\n",
      "        [5, 7, 6, 4]])\n"
     ]
    },
    {
     "data": {
      "text/plain": [
       "tensor([[3, 1, 4, 2, 0, 2, 3, 4, 0, 1, 4, 3, 0, 1, 4, 2, 0, 2, 1, 3, 7, 8, 6, 4,\n",
       "         5, 7, 8, 4, 5, 6, 8, 7, 5, 7, 6, 4],\n",
       "        [0, 0, 0, 0, 1, 1, 1, 1, 2, 2, 2, 2, 3, 3, 3, 3, 4, 4, 4, 4, 5, 5, 5, 5,\n",
       "         6, 6, 6, 6, 7, 7, 7, 7, 8, 8, 8, 8]])"
      ]
     },
     "execution_count": 6,
     "metadata": {},
     "output_type": "execute_result"
    }
   ],
   "source": [
    "knn_graph_static(batch.pos, 4, batch.batch, 30.0)"
   ]
  },
  {
   "cell_type": "code",
   "execution_count": 7,
   "metadata": {},
   "outputs": [
    {
     "data": {
      "text/plain": [
       "tensor([[3, 1, 4, 0, 2, 3, 0, 1, 4, 0, 1, 4, 0, 2, 1, 7, 8, 6, 5, 7, 8, 5, 6, 8,\n",
       "         5, 7, 6],\n",
       "        [0, 0, 0, 1, 1, 1, 2, 2, 2, 3, 3, 3, 4, 4, 4, 5, 5, 5, 6, 6, 6, 7, 7, 7,\n",
       "         8, 8, 8]])"
      ]
     },
     "execution_count": 7,
     "metadata": {},
     "output_type": "execute_result"
    }
   ],
   "source": [
    "knn_graph(batch.pos, k, batch.batch)"
   ]
  },
  {
   "cell_type": "code",
   "execution_count": 8,
   "metadata": {},
   "outputs": [
    {
     "data": {
      "text/plain": [
       "tensor([0, 0, 0, 0, 0, 1, 1, 1, 1])"
      ]
     },
     "execution_count": 8,
     "metadata": {},
     "output_type": "execute_result"
    }
   ],
   "source": [
    "batch.batch"
   ]
  },
  {
   "cell_type": "code",
   "execution_count": 9,
   "metadata": {},
   "outputs": [],
   "source": [
    "def fully_connected(num_nodes):\n",
    "    node_ids = torch.arange(0, num_nodes)\n",
    "    all_edges = torch.cartesian_prod(node_ids, node_ids)\n",
    "\n",
    "    splits = [1, num_nodes] * (num_nodes - 1)\n",
    "    splits.append(1)\n",
    "    splits = torch.split(torch.arange(num_nodes * num_nodes), splits)\n",
    "    keepers = splits[1:-1:2]\n",
    "    return all_edges[torch.hstack(keepers)].t()"
   ]
  },
  {
   "cell_type": "code",
   "execution_count": 24,
   "metadata": {},
   "outputs": [
    {
     "data": {
      "text/plain": [
       "tensor([[0.0000, 1.0919, 1.0919, 1.0919, 1.0919, 0.0869, 1.0743, 0.9685, 0.9685],\n",
       "        [1.0919, 0.0000, 1.7831, 1.7831, 1.7831, 1.0328, 0.0379, 1.6426, 1.6428],\n",
       "        [1.0919, 1.7831, 0.0000, 1.7831, 1.7831, 1.1420, 1.7595, 0.1452, 1.7214],\n",
       "        [1.0919, 1.7831, 1.7831, 0.0000, 1.7831, 1.1453, 1.7584, 1.6877, 0.1465],\n",
       "        [1.0919, 1.7831, 1.7831, 1.7831, 0.0000, 1.0568, 1.7879, 1.7185, 1.6846],\n",
       "        [0.0869, 1.0328, 1.1420, 1.1453, 1.0568, 0.0000, 1.0172, 1.0172, 1.0172],\n",
       "        [1.0743, 0.0379, 1.7595, 1.7584, 1.7879, 1.0172, 0.0000, 1.6185, 1.6187],\n",
       "        [0.9685, 1.6426, 0.1452, 1.6877, 1.7185, 1.0172, 1.6185, 0.0000, 1.6187],\n",
       "        [0.9685, 1.6428, 1.7214, 0.1465, 1.6846, 1.0172, 1.6187, 1.6187, 0.0000]])"
      ]
     },
     "execution_count": 24,
     "metadata": {},
     "output_type": "execute_result"
    }
   ],
   "source": [
    "x = batch.pos\n",
    "num_nodes = x.shape[0]\n",
    "u = x.unsqueeze(1)\n",
    "u = u.repeat(1, num_nodes, 1)\n",
    "\n",
    "v = x.unsqueeze(0)\n",
    "v = v.repeat(num_nodes, 1, 1)\n",
    "torch.sum((u - v).pow(2), dim=-1).sqrt()"
   ]
  },
  {
   "cell_type": "code",
   "execution_count": 25,
   "metadata": {},
   "outputs": [
    {
     "data": {
      "text/plain": [
       "tensor([[0.0000, 1.0919, 1.0919, 1.0919, 1.0919, 0.0869, 1.0743, 0.9685, 0.9685],\n",
       "        [1.0919, 0.0000, 1.7831, 1.7831, 1.7831, 1.0328, 0.0379, 1.6426, 1.6428],\n",
       "        [1.0919, 1.7831, 0.0000, 1.7831, 1.7831, 1.1420, 1.7595, 0.1452, 1.7214],\n",
       "        [1.0919, 1.7831, 1.7831, 0.0000, 1.7831, 1.1453, 1.7584, 1.6877, 0.1465],\n",
       "        [1.0919, 1.7831, 1.7831, 1.7831, 0.0000, 1.0568, 1.7879, 1.7185, 1.6846],\n",
       "        [0.0869, 1.0328, 1.1420, 1.1453, 1.0568, 0.0000, 1.0172, 1.0172, 1.0172],\n",
       "        [1.0743, 0.0379, 1.7595, 1.7584, 1.7879, 1.0172, 0.0000, 1.6185, 1.6187],\n",
       "        [0.9685, 1.6426, 0.1452, 1.6877, 1.7185, 1.0172, 1.6185, 0.0000, 1.6187],\n",
       "        [0.9685, 1.6428, 1.7214, 0.1465, 1.6846, 1.0172, 1.6187, 1.6187, 0.0000]])"
      ]
     },
     "execution_count": 25,
     "metadata": {},
     "output_type": "execute_result"
    }
   ],
   "source": [
    "torch.norm(x - x[:, None], dim=-1)"
   ]
  },
  {
   "cell_type": "code",
   "execution_count": 28,
   "metadata": {},
   "outputs": [
    {
     "data": {
      "text/plain": [
       "tensor([[-0.0127, -0.0127, -0.0127,  ..., -0.0127, -0.0127, -0.0127],\n",
       "        [ 1.0858,  1.0858,  1.0858,  ...,  1.0858,  1.0858,  1.0858],\n",
       "        [ 0.0080,  0.0080,  0.0080,  ...,  0.0080,  0.0080,  0.0080],\n",
       "        ...,\n",
       "        [-0.5203, -0.5203, -0.5203,  ..., -0.5203, -0.5203, -0.5203],\n",
       "        [ 1.3435,  1.3435,  1.3435,  ...,  1.3435,  1.3435,  1.3435],\n",
       "        [-0.7755, -0.7755, -0.7755,  ..., -0.7755, -0.7755, -0.7755]])"
      ]
     },
     "execution_count": 28,
     "metadata": {},
     "output_type": "execute_result"
    }
   ],
   "source": [
    "u.flatten().view(-1, 1) @ torch.ones(u.numel()).view(1, -1)"
   ]
  },
  {
   "cell_type": "code",
   "execution_count": 30,
   "metadata": {},
   "outputs": [
    {
     "data": {
      "text/plain": [
       "tensor([-0.0127,  1.0858,  0.0080])"
      ]
     },
     "execution_count": 30,
     "metadata": {},
     "output_type": "execute_result"
    }
   ],
   "source": [
    "u[0, 0]"
   ]
  },
  {
   "cell_type": "code",
   "execution_count": 12,
   "metadata": {},
   "outputs": [
    {
     "data": {
      "text/plain": [
       "tensor([[-0.7931, -0.3459,  2.3242,  0.9874],\n",
       "        [ 0.0766,  3.0462,  0.0521,  1.8238],\n",
       "        [-1.2089, -2.4975,  2.1697, -0.2434],\n",
       "        [ 0.0000,  0.0000,  0.0000,  0.0000],\n",
       "        [ 1.1149, -0.4624, -0.4037, -0.6049],\n",
       "        [ 2.1396,  1.0008,  0.7729, -0.6602],\n",
       "        [-0.6136,  0.0316, -0.4927,  0.2484],\n",
       "        [-1.7989, -0.2795,  0.8048, -0.2560]])"
      ]
     },
     "execution_count": 12,
     "metadata": {},
     "output_type": "execute_result"
    }
   ],
   "source": [
    "import torch\n",
    "\n",
    "torch.manual_seed(0)\n",
    "M = 16\n",
    "N = 4\n",
    "L = 8\n",
    "\n",
    "out = torch.zeros(L, N)\n",
    "src = torch.randn(M, N)\n",
    "index = torch.randint(0, L, (M,))\n",
    "\n",
    "out.index_add(dim=0, index=index, source=src)"
   ]
  },
  {
   "cell_type": "code",
   "execution_count": 20,
   "metadata": {},
   "outputs": [
    {
     "data": {
      "text/plain": [
       "tensor([[-0.7931, -0.3459,  2.3242,  0.9874],\n",
       "        [ 0.0766,  3.0462,  0.0521,  1.8238],\n",
       "        [-1.2089, -2.4975,  2.1697, -0.2434],\n",
       "        [ 0.0000,  0.0000,  0.0000,  0.0000],\n",
       "        [ 1.1149, -0.4624, -0.4037, -0.6049],\n",
       "        [ 2.1396,  1.0008,  0.7729, -0.6602],\n",
       "        [-0.6136,  0.0316, -0.4927,  0.2484],\n",
       "        [-1.7989, -0.2795,  0.8048, -0.2560]])"
      ]
     },
     "execution_count": 20,
     "metadata": {},
     "output_type": "execute_result"
    }
   ],
   "source": [
    "out = torch.zeros(L, N)\n",
    "broadcasted_index = index.view(-1, 1).expand_as(src)\n",
    "for i in range(M):\n",
    "    for j in range(N):\n",
    "        out[broadcasted_index[i, j], j] += src[i, j]\n",
    "\n",
    "out"
   ]
  },
  {
   "cell_type": "code",
   "execution_count": 21,
   "metadata": {},
   "outputs": [
    {
     "data": {
      "text/plain": [
       "tensor([[-0.7931, -0.3459,  2.3242,  0.9874],\n",
       "        [ 0.0766,  3.0462,  0.0521,  1.8238],\n",
       "        [-1.2089, -2.4975,  2.1697, -0.2434],\n",
       "        [ 0.0000,  0.0000,  0.0000,  0.0000],\n",
       "        [ 1.1149, -0.4624, -0.4037, -0.6049],\n",
       "        [ 2.1396,  1.0008,  0.7729, -0.6602],\n",
       "        [-0.6136,  0.0316, -0.4927,  0.2484],\n",
       "        [-1.7989, -0.2795,  0.8048, -0.2560]])"
      ]
     },
     "execution_count": 21,
     "metadata": {},
     "output_type": "execute_result"
    }
   ],
   "source": [
    "out = torch.zeros(L, N)\n",
    "for i in range(M):\n",
    "    out[index[i], :] += src[i, :]\n",
    "\n",
    "out"
   ]
  },
  {
   "cell_type": "code",
   "execution_count": null,
   "metadata": {},
   "outputs": [],
   "source": []
  }
 ],
 "metadata": {
  "kernelspec": {
   "display_name": "Python 3.8.13 ('pyg')",
   "language": "python",
   "name": "python3"
  },
  "language_info": {
   "codemirror_mode": {
    "name": "ipython",
    "version": 3
   },
   "file_extension": ".py",
   "mimetype": "text/x-python",
   "name": "python",
   "nbconvert_exporter": "python",
   "pygments_lexer": "ipython3",
   "version": "3.8.13"
  },
  "orig_nbformat": 4,
  "vscode": {
   "interpreter": {
    "hash": "f2d96332b9426f1d2cf1a14c5d2904d2633e34ba663b999c9b9ead67e177d353"
   }
  }
 },
 "nbformat": 4,
 "nbformat_minor": 2
}
