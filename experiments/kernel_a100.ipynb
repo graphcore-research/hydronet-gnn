{
 "cells": [
  {
   "cell_type": "code",
   "execution_count": 1,
   "metadata": {},
   "outputs": [],
   "source": [
    "%%capture\n",
    "!pip3 uninstall torch -y\n",
    "!pip3 uninstall torchvision -y\n",
    "!pip3 uninstall torchaudio -y\n",
    "!pip3 install torch --extra-index-url https://download.pytorch.org/whl/cu116\n",
    "!pip3 install torch-scatter torch-sparse torch-cluster torch-spline-conv torch-geometric -f https://data.pyg.org/whl/torch-1.13.0+cu116.html"
   ]
  },
  {
   "cell_type": "code",
   "execution_count": 2,
   "metadata": {},
   "outputs": [],
   "source": [
    "from functools import partial\n",
    "from itertools import product\n",
    "import pandas as pd\n",
    "import torch\n",
    "import torch.utils.benchmark as benchmark\n",
    "from torch_scatter import scatter\n",
    "from tqdm import tqdm\n",
    "from torch_geometric.nn.models.schnet import GaussianSmearing, InteractionBlock"
   ]
  },
  {
   "cell_type": "code",
   "execution_count": 3,
   "metadata": {},
   "outputs": [
    {
     "data": {
      "text/plain": [
       "'1.13.0+cu116'"
      ]
     },
     "execution_count": 3,
     "metadata": {},
     "output_type": "execute_result"
    }
   ],
   "source": [
    "torch.__version__"
   ]
  },
  {
   "cell_type": "code",
   "execution_count": 4,
   "metadata": {},
   "outputs": [],
   "source": [
    "class GatherOp(torch.nn.Module):\n",
    "    def __init__(self, num_inputs, num_features, num_outputs) -> None:\n",
    "        super().__init__()\n",
    "        input = torch.randn(num_inputs, num_features)\n",
    "        index = torch.randint(num_inputs, (num_outputs,))\n",
    "        self.register_buffer(\"input\", input)\n",
    "        self.register_buffer(\"index\", index)\n",
    "\n",
    "    def forward(self):\n",
    "        return self.input.index_select(dim=0, index=self.index)\n",
    "\n",
    "\n",
    "class ScatterOp(torch.nn.Module):\n",
    "    def __init__(self, num_inputs, num_features, num_outputs, reduce) -> None:\n",
    "        super().__init__()\n",
    "        self.scatter = partial(scatter, dim_size=num_outputs, reduce=reduce)\n",
    "        input = torch.randn(num_inputs, num_features)\n",
    "        index = torch.randint(num_outputs, (num_inputs,))\n",
    "        self.register_buffer(\"input\", input)\n",
    "        self.register_buffer(\"index\", index)\n",
    "\n",
    "    def forward(self):\n",
    "        return self.scatter(src=self.input, index=self.index, dim=0)\n",
    "\n",
    "\n",
    "class ScatterAddOp(ScatterOp):\n",
    "    def __init__(self, *args) -> None:\n",
    "        super().__init__(*args, reduce=\"add\")\n",
    "\n",
    "\n",
    "class ScatterMinOp(ScatterOp):\n",
    "    def __init__(self, *args) -> None:\n",
    "        super().__init__(*args, reduce=\"min\")\n",
    "\n",
    "\n",
    "class ScatterMaxOp(ScatterOp):\n",
    "    def __init__(self, *args) -> None:\n",
    "        super().__init__(*args, reduce=\"max\")\n",
    "\n",
    "\n",
    "class InteractionBlockOp(torch.nn.Module):\n",
    "    def __init__(self, num_inputs, num_features, num_outputs) -> None:\n",
    "        super().__init__()\n",
    "        self.block = InteractionBlock(\n",
    "            hidden_channels=num_features,\n",
    "            num_gaussians=50,\n",
    "            num_filters=num_features,\n",
    "            cutoff=6.0,\n",
    "        )\n",
    "        input = torch.randn(num_inputs, num_features)\n",
    "        src = torch.randint(num_inputs, (num_outputs,))\n",
    "        dst = torch.randint(num_inputs, (num_outputs,))\n",
    "        edge_index = torch.stack([src, dst])\n",
    "        edge_weight = torch.empty(num_outputs).uniform_(1.0, 6.0)\n",
    "\n",
    "        grbf = GaussianSmearing(start=0.0, stop=6.0, num_gaussians=50)\n",
    "        edge_attr = grbf(edge_weight)\n",
    "\n",
    "        self.register_buffer(\"input\", input)\n",
    "        self.register_buffer(\"edge_index\", edge_index)\n",
    "        self.register_buffer(\"edge_weight\", edge_weight)\n",
    "        self.register_buffer(\"edge_attr\", edge_attr)\n",
    "\n",
    "    def forward(self):\n",
    "        return self.block(self.input, self.edge_index, self.edge_weight, self.edge_attr)"
   ]
  },
  {
   "cell_type": "code",
   "execution_count": 5,
   "metadata": {},
   "outputs": [],
   "source": [
    "def mpbench(\n",
    "    operation: str,\n",
    "    seed: int,\n",
    "    num_inputs: int,\n",
    "    num_features: int,\n",
    "    num_outputs: int,\n",
    "    device: str = \"cpu\",\n",
    ") -> int:\n",
    "    setup = f\"\"\"\n",
    "    from __main__ import {operation}\n",
    "    torch.manual_seed(seed)\n",
    "    op = {operation}(num_inputs, num_features, num_outputs)\n",
    "    op.to(device='{device}')\n",
    "    \"\"\"\n",
    "\n",
    "    inputs = {\n",
    "        \"seed\": seed,\n",
    "        \"num_inputs\": num_inputs,\n",
    "        \"num_features\": num_features,\n",
    "        \"num_outputs\": num_outputs,\n",
    "    }\n",
    "\n",
    "    if device == \"cuda\":\n",
    "        torch.cuda.empty_cache()\n",
    "\n",
    "    t = benchmark.Timer(stmt=\"op()\", setup=setup, globals=inputs)\n",
    "    result = t.blocked_autorange(min_run_time=2.0)\n",
    "    # convert to microseconds\n",
    "    return 1e6 * result.mean, 1e6 * result.iqr\n",
    "\n",
    "\n",
    "def run_sweep(operation: str):\n",
    "    # nodes ~ 16, 32, ..., 4096\n",
    "    num_inputs = [2**e for e in range(4, 13)]\n",
    "\n",
    "    # embedding size ~ 16, 32, ..., 512\n",
    "    num_features = [2**e for e in range(4, 10)]\n",
    "\n",
    "    # edges ~ 32, 64, ..., 32768\n",
    "    num_outputs = [2**e for e in range(5, 16)]\n",
    "\n",
    "    grid = product(num_inputs, num_features, num_outputs)\n",
    "\n",
    "    seed = 0\n",
    "    data = []\n",
    "\n",
    "    for num_inputs, num_features, num_outputs in tqdm(list(grid)):\n",
    "        metrics = {\n",
    "            \"num_inputs\": num_inputs,\n",
    "            \"num_features\": num_features,\n",
    "            \"num_outputs\": num_outputs,\n",
    "        }\n",
    "        time, iqr = mpbench(operation, seed, device=\"cuda\", **metrics)\n",
    "        data.append({**metrics, \"time\": time, \"iqr\": iqr})\n",
    "\n",
    "    df = pd.DataFrame(data)\n",
    "    df.to_pickle(f\"{operation}_a100.pickle\")"
   ]
  },
  {
   "cell_type": "code",
   "execution_count": 6,
   "metadata": {},
   "outputs": [
    {
     "name": "stderr",
     "output_type": "stream",
     "text": [
      "100%|██████████| 594/594 [22:04<00:00,  2.23s/it]\n"
     ]
    }
   ],
   "source": [
    "run_sweep(\"GatherOp\")"
   ]
  },
  {
   "cell_type": "code",
   "execution_count": 7,
   "metadata": {},
   "outputs": [
    {
     "name": "stderr",
     "output_type": "stream",
     "text": [
      "100%|██████████| 594/594 [23:47<00:00,  2.40s/it]\n"
     ]
    }
   ],
   "source": [
    "run_sweep(\"ScatterAddOp\")"
   ]
  },
  {
   "cell_type": "code",
   "execution_count": 8,
   "metadata": {},
   "outputs": [
    {
     "name": "stderr",
     "output_type": "stream",
     "text": [
      "100%|██████████| 594/594 [27:52<00:00,  2.82s/it]\n"
     ]
    }
   ],
   "source": [
    "run_sweep(\"InteractionBlockOp\")"
   ]
  },
  {
   "cell_type": "code",
   "execution_count": 9,
   "metadata": {},
   "outputs": [
    {
     "name": "stderr",
     "output_type": "stream",
     "text": [
      "100%|██████████| 594/594 [26:48<00:00,  2.71s/it]\n"
     ]
    }
   ],
   "source": [
    "run_sweep(\"ScatterMaxOp\")"
   ]
  },
  {
   "cell_type": "code",
   "execution_count": 10,
   "metadata": {},
   "outputs": [
    {
     "name": "stderr",
     "output_type": "stream",
     "text": [
      "100%|██████████| 594/594 [26:27<00:00,  2.67s/it]\n"
     ]
    }
   ],
   "source": [
    "run_sweep(\"ScatterMinOp\")"
   ]
  }
 ],
 "metadata": {
  "kernelspec": {
   "display_name": "Python 3 (ipykernel)",
   "language": "python",
   "name": "python3"
  },
  "language_info": {
   "codemirror_mode": {
    "name": "ipython",
    "version": 3
   },
   "file_extension": ".py",
   "mimetype": "text/x-python",
   "name": "python",
   "nbconvert_exporter": "python",
   "pygments_lexer": "ipython3",
   "version": "3.9.13"
  },
  "orig_nbformat": 4,
  "vscode": {
   "interpreter": {
    "hash": "f2d96332b9426f1d2cf1a14c5d2904d2633e34ba663b999c9b9ead67e177d353"
   }
  }
 },
 "nbformat": 4,
 "nbformat_minor": 2
}
