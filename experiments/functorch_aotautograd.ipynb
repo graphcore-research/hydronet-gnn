{
 "cells": [
  {
   "cell_type": "code",
   "execution_count": 1,
   "metadata": {},
   "outputs": [],
   "source": [
    "import torch\n",
    "from functorch import vmap, grad\n",
    "from torch.fx import symbolic_trace\n",
    "from functorch.compile import aot_function, ts_compile, make_boxed_func\n",
    "import seaborn as sns\n",
    "import matplotlib.pyplot as plt\n",
    "\n",
    "sns.set_theme()"
   ]
  },
  {
   "cell_type": "code",
   "execution_count": 2,
   "metadata": {},
   "outputs": [],
   "source": [
    "def lennard_jones(r: torch.Tensor, epsilon: float = 1.0, sigma: float = 1.0):\n",
    "    \"\"\" \"\"\"\n",
    "    sigma = torch.tensor(sigma, device=r.device)\n",
    "    epsilon = torch.tensor(epsilon, device=r.device)\n",
    "    u = (sigma / r) ** 2\n",
    "    v = u * u * u\n",
    "    return torch.tensor(4.0, device=r.device) * epsilon * (v * v - v)\n",
    "\n",
    "\n",
    "def dlj_dr(r: torch.Tensor, epsilon: float = 1.0, sigma: float = 1.0):\n",
    "    \"\"\"\"\"\"\n",
    "    u = -4.0 * epsilon * sigma / r**2\n",
    "    v = sigma / r\n",
    "    return u * (12 * v**11 - 6 * v**5)"
   ]
  },
  {
   "cell_type": "code",
   "execution_count": 3,
   "metadata": {},
   "outputs": [
    {
     "data": {
      "image/png": "[encoded data removed]",
      "image/svg+xml": "<?xml version=\"1.0\" encoding=\"utf-8\" standalone=\"no\"?>\n<!DOCTYPE svg PUBLIC \"-//W3C//DTD SVG 1.1//EN\"\n  \"http://www.w3.org/Graphics/SVG/1.1/DTD/svg11.dtd\">\n<svg xmlns:xlink=\"http://www.w3.org/1999/xlink\" width=\"407.731094pt\" height=\"304.837078pt\" viewBox=\"0 0 407.731094 304.837078\" xmlns=\"http://www.w3.org/2000/svg\" version=\"1.1\">\n <metadata>\n  <rdf:RDF xmlns:dc=\"http://purl.org/dc/elements/1.1/\" xmlns:cc=\"http://creativecommons.org/ns#\" xmlns:rdf=\"http://www.w3.org/1999/02/22-rdf-syntax-ns#\">\n   <cc:Work>\n    <dc:type rdf:resource=\"http://purl.org/dc/dcmitype/StillImage\"/>\n    <dc:date>2023-03-27T15:34:11.348927</dc:date>\n    <dc:format>image/svg+xml</dc:format>\n    <dc:creator>\n     <cc:Agent>\n      <dc:title>Matplotlib v3.7.0, https://matplotlib.org/</dc:title>\n     </cc:Agent>\n    </dc:creator>\n   </cc:Work>\n  </rdf:RDF>\n </metadata>\n <defs>\n  <style type=\"text/css\">*{stroke-linejoin: round; stroke-linecap: butt}</style>\n </defs>\n <g id=\"figure_1\">\n  <g id=\"patch_1\">\n   <path d=\"M 0 304.837078 \nL 407.731094 304.837078 \nL 407.731094 0 \nL 0 0 \nz\n\" style=\"fill: #ffffff\"/>\n  </g>\n  <g id=\"axes_1\">\n   <g id=\"patch_2\">\n    <path d=\"M 43.411094 277.491141 \nL 400.531094 277.491141 \nL 400.531094 11.379141 \nL 43.411094 11.379141 \nz\n\" style=\"fill: #eaeaf2\"/>\n   </g>\n   <g id=\"matplotlib.axis_1\">\n    <g id=\"xtick_1\">\n     <g id=\"line2d_1\">\n      <path d=\"M 59.643821 277.491141 \nL 59.643821 11.379141 \n\" clip-path=\"url(#pb2608a921a)\" style=\"fill: none; stroke: #ffffff; stroke-linecap: round\"/>\n     </g>\n     <g id=\"text_1\">\n      <!-- 0.5 -->\n      <g style=\"fill: #262626\" transform=\"translate(50.897102 295.349422) scale(0.11 -0.11)\">\n       <defs>\n        <path id=\"DejaVuSans-30\" d=\"M 2034 4250 \nQ 1547 4250 1301 3770 \nQ 1056 3291 1056 2328 \nQ 1056 1369 1301 889 \nQ 1547 409 2034 409 \nQ 2525 409 2770 889 \nQ 3016 1369 3016 2328 \nQ 3016 3291 2770 3770 \nQ 2525 4250 2034 4250 \nz\nM 2034 4750 \nQ 2819 4750 3233 4129 \nQ 3647 3509 3647 2328 \nQ 3647 1150 3233 529 \nQ 2819 -91 2034 -91 \nQ 1250 -91 836 529 \nQ 422 1150 422 2328 \nQ 422 3509 836 4129 \nQ 1250 4750 2034 4750 \nz\n\" transform=\"scale(0.015625)\"/>\n        <path id=\"DejaVuSans-2e\" d=\"M 684 794 \nL 1344 794 \nL 1344 0 \nL 684 0 \nL 684 794 \nz\n\" transform=\"scale(0.015625)\"/>\n        <path id=\"DejaVuSans-35\" d=\"M 691 4666 \nL 3169 4666 \nL 3169 4134 \nL 1269 4134 \nL 1269 2991 \nQ 1406 3038 1543 3061 \nQ 1681 3084 1819 3084 \nQ 2600 3084 3056 2656 \nQ 3513 2228 3513 1497 \nQ 3513 744 3044 326 \nQ 2575 -91 1722 -91 \nQ 1428 -91 1123 -41 \nQ 819 9 494 109 \nL 494 744 \nQ 775 591 1075 516 \nQ 1375 441 1709 441 \nQ 2250 441 2565 725 \nQ 2881 1009 2881 1497 \nQ 2881 1984 2565 2268 \nQ 2250 2553 1709 2553 \nQ 1456 2553 1204 2497 \nQ 953 2441 691 2322 \nL 691 4666 \nz\n\" transform=\"scale(0.015625)\"/>\n       </defs>\n       <use xlink:href=\"#DejaVuSans-30\"/>\n       <use xlink:href=\"#DejaVuSans-2e\" x=\"63.623047\"/>\n       <use xlink:href=\"#DejaVuSans-35\" x=\"95.410156\"/>\n      </g>\n     </g>\n    </g>\n    <g id=\"xtick_2\">\n     <g id=\"line2d_2\">\n      <path d=\"M 124.57473 277.491141 \nL 124.57473 11.379141 \n\" clip-path=\"url(#pb2608a921a)\" style=\"fill: none; stroke: #ffffff; stroke-linecap: round\"/>\n     </g>\n     <g id=\"text_2\">\n      <!-- 1.0 -->\n      <g style=\"fill: #262626\" transform=\"translate(115.828011 295.349422) scale(0.11 -0.11)\">\n       <defs>\n        <path id=\"DejaVuSans-31\" d=\"M 794 531 \nL 1825 531 \nL 1825 4091 \nL 703 3866 \nL 703 4441 \nL 1819 4666 \nL 2450 4666 \nL 2450 531 \nL 3481 531 \nL 3481 0 \nL 794 0 \nL 794 531 \nz\n\" transform=\"scale(0.015625)\"/>\n       </defs>\n       <use xlink:href=\"#DejaVuSans-31\"/>\n       <use xlink:href=\"#DejaVuSans-2e\" x=\"63.623047\"/>\n       <use xlink:href=\"#DejaVuSans-30\" x=\"95.410156\"/>\n      </g>\n     </g>\n    </g>\n    <g id=\"xtick_3\">\n     <g id=\"line2d_3\">\n      <path d=\"M 189.505639 277.491141 \nL 189.505639 11.379141 \n\" clip-path=\"url(#pb2608a921a)\" style=\"fill: none; stroke: #ffffff; stroke-linecap: round\"/>\n     </g>\n     <g id=\"text_3\">\n      <!-- 1.5 -->\n      <g style=\"fill: #262626\" transform=\"translate(180.75892 295.349422) scale(0.11 -0.11)\">\n       <use xlink:href=\"#DejaVuSans-31\"/>\n       <use xlink:href=\"#DejaVuSans-2e\" x=\"63.623047\"/>\n       <use xlink:href=\"#DejaVuSans-35\" x=\"95.410156\"/>\n      </g>\n     </g>\n    </g>\n    <g id=\"xtick_4\">\n     <g id=\"line2d_4\">\n      <path d=\"M 254.436548 277.491141 \nL 254.436548 11.379141 \n\" clip-path=\"url(#pb2608a921a)\" style=\"fill: none; stroke: #ffffff; stroke-linecap: round\"/>\n     </g>\n     <g id=\"text_4\">\n      <!-- 2.0 -->\n      <g style=\"fill: #262626\" transform=\"translate(245.68983 295.349422) scale(0.11 -0.11)\">\n       <defs>\n        <path id=\"DejaVuSans-32\" d=\"M 1228 531 \nL 3431 531 \nL 3431 0 \nL 469 0 \nL 469 531 \nQ 828 903 1448 1529 \nQ 2069 2156 2228 2338 \nQ 2531 2678 2651 2914 \nQ 2772 3150 2772 3378 \nQ 2772 3750 2511 3984 \nQ 2250 4219 1831 4219 \nQ 1534 4219 1204 4116 \nQ 875 4013 500 3803 \nL 500 4441 \nQ 881 4594 1212 4672 \nQ 1544 4750 1819 4750 \nQ 2544 4750 2975 4387 \nQ 3406 4025 3406 3419 \nQ 3406 3131 3298 2873 \nQ 3191 2616 2906 2266 \nQ 2828 2175 2409 1742 \nQ 1991 1309 1228 531 \nz\n\" transform=\"scale(0.015625)\"/>\n       </defs>\n       <use xlink:href=\"#DejaVuSans-32\"/>\n       <use xlink:href=\"#DejaVuSans-2e\" x=\"63.623047\"/>\n       <use xlink:href=\"#DejaVuSans-30\" x=\"95.410156\"/>\n      </g>\n     </g>\n    </g>\n    <g id=\"xtick_5\">\n     <g id=\"line2d_5\">\n      <path d=\"M 319.367457 277.491141 \nL 319.367457 11.379141 \n\" clip-path=\"url(#pb2608a921a)\" style=\"fill: none; stroke: #ffffff; stroke-linecap: round\"/>\n     </g>\n     <g id=\"text_5\">\n      <!-- 2.5 -->\n      <g style=\"fill: #262626\" transform=\"translate(310.620739 295.349422) scale(0.11 -0.11)\">\n       <use xlink:href=\"#DejaVuSans-32\"/>\n       <use xlink:href=\"#DejaVuSans-2e\" x=\"63.623047\"/>\n       <use xlink:href=\"#DejaVuSans-35\" x=\"95.410156\"/>\n      </g>\n     </g>\n    </g>\n    <g id=\"xtick_6\">\n     <g id=\"line2d_6\">\n      <path d=\"M 384.298366 277.491141 \nL 384.298366 11.379141 \n\" clip-path=\"url(#pb2608a921a)\" style=\"fill: none; stroke: #ffffff; stroke-linecap: round\"/>\n     </g>\n     <g id=\"text_6\">\n      <!-- 3.0 -->\n      <g style=\"fill: #262626\" transform=\"translate(375.551648 295.349422) scale(0.11 -0.11)\">\n       <defs>\n        <path id=\"DejaVuSans-33\" d=\"M 2597 2516 \nQ 3050 2419 3304 2112 \nQ 3559 1806 3559 1356 \nQ 3559 666 3084 287 \nQ 2609 -91 1734 -91 \nQ 1441 -91 1130 -33 \nQ 819 25 488 141 \nL 488 750 \nQ 750 597 1062 519 \nQ 1375 441 1716 441 \nQ 2309 441 2620 675 \nQ 2931 909 2931 1356 \nQ 2931 1769 2642 2001 \nQ 2353 2234 1838 2234 \nL 1294 2234 \nL 1294 2753 \nL 1863 2753 \nQ 2328 2753 2575 2939 \nQ 2822 3125 2822 3475 \nQ 2822 3834 2567 4026 \nQ 2313 4219 1838 4219 \nQ 1578 4219 1281 4162 \nQ 984 4106 628 3988 \nL 628 4550 \nQ 988 4650 1302 4700 \nQ 1616 4750 1894 4750 \nQ 2613 4750 3031 4423 \nQ 3450 4097 3450 3541 \nQ 3450 3153 3228 2886 \nQ 3006 2619 2597 2516 \nz\n\" transform=\"scale(0.015625)\"/>\n       </defs>\n       <use xlink:href=\"#DejaVuSans-33\"/>\n       <use xlink:href=\"#DejaVuSans-2e\" x=\"63.623047\"/>\n       <use xlink:href=\"#DejaVuSans-30\" x=\"95.410156\"/>\n      </g>\n     </g>\n    </g>\n   </g>\n   <g id=\"matplotlib.axis_2\">\n    <g id=\"ytick_1\">\n     <g id=\"line2d_7\">\n      <path d=\"M 43.411094 277.491141 \nL 400.531094 277.491141 \n\" clip-path=\"url(#pb2608a921a)\" style=\"fill: none; stroke: #ffffff; stroke-linecap: round\"/>\n     </g>\n     <g id=\"text_7\">\n      <!-- −2.5 -->\n      <g style=\"fill: #262626\" transform=\"translate(7.2 281.670281) scale(0.11 -0.11)\">\n       <defs>\n        <path id=\"DejaVuSans-2212\" d=\"M 678 2272 \nL 4684 2272 \nL 4684 1741 \nL 678 1741 \nL 678 2272 \nz\n\" transform=\"scale(0.015625)\"/>\n       </defs>\n       <use xlink:href=\"#DejaVuSans-2212\"/>\n       <use xlink:href=\"#DejaVuSans-32\" x=\"83.789062\"/>\n       <use xlink:href=\"#DejaVuSans-2e\" x=\"147.412109\"/>\n       <use xlink:href=\"#DejaVuSans-35\" x=\"179.199219\"/>\n      </g>\n     </g>\n    </g>\n    <g id=\"ytick_2\">\n     <g id=\"line2d_8\">\n      <path d=\"M 43.411094 239.475141 \nL 400.531094 239.475141 \n\" clip-path=\"url(#pb2608a921a)\" style=\"fill: none; stroke: #ffffff; stroke-linecap: round\"/>\n     </g>\n     <g id=\"text_8\">\n      <!-- −2.0 -->\n      <g style=\"fill: #262626\" transform=\"translate(7.2 243.654281) scale(0.11 -0.11)\">\n       <use xlink:href=\"#DejaVuSans-2212\"/>\n       <use xlink:href=\"#DejaVuSans-32\" x=\"83.789062\"/>\n       <use xlink:href=\"#DejaVuSans-2e\" x=\"147.412109\"/>\n       <use xlink:href=\"#DejaVuSans-30\" x=\"179.199219\"/>\n      </g>\n     </g>\n    </g>\n    <g id=\"ytick_3\">\n     <g id=\"line2d_9\">\n      <path d=\"M 43.411094 201.459141 \nL 400.531094 201.459141 \n\" clip-path=\"url(#pb2608a921a)\" style=\"fill: none; stroke: #ffffff; stroke-linecap: round\"/>\n     </g>\n     <g id=\"text_9\">\n      <!-- −1.5 -->\n      <g style=\"fill: #262626\" transform=\"translate(7.2 205.638281) scale(0.11 -0.11)\">\n       <use xlink:href=\"#DejaVuSans-2212\"/>\n       <use xlink:href=\"#DejaVuSans-31\" x=\"83.789062\"/>\n       <use xlink:href=\"#DejaVuSans-2e\" x=\"147.412109\"/>\n       <use xlink:href=\"#DejaVuSans-35\" x=\"179.199219\"/>\n      </g>\n     </g>\n    </g>\n    <g id=\"ytick_4\">\n     <g id=\"line2d_10\">\n      <path d=\"M 43.411094 163.443141 \nL 400.531094 163.443141 \n\" clip-path=\"url(#pb2608a921a)\" style=\"fill: none; stroke: #ffffff; stroke-linecap: round\"/>\n     </g>\n     <g id=\"text_10\">\n      <!-- −1.0 -->\n      <g style=\"fill: #262626\" transform=\"translate(7.2 167.622281) scale(0.11 -0.11)\">\n       <use xlink:href=\"#DejaVuSans-2212\"/>\n       <use xlink:href=\"#DejaVuSans-31\" x=\"83.789062\"/>\n       <use xlink:href=\"#DejaVuSans-2e\" x=\"147.412109\"/>\n       <use xlink:href=\"#DejaVuSans-30\" x=\"179.199219\"/>\n      </g>\n     </g>\n    </g>\n    <g id=\"ytick_5\">\n     <g id=\"line2d_11\">\n      <path d=\"M 43.411094 125.427141 \nL 400.531094 125.427141 \n\" clip-path=\"url(#pb2608a921a)\" style=\"fill: none; stroke: #ffffff; stroke-linecap: round\"/>\n     </g>\n     <g id=\"text_11\">\n      <!-- −0.5 -->\n      <g style=\"fill: #262626\" transform=\"translate(7.2 129.606281) scale(0.11 -0.11)\">\n       <use xlink:href=\"#DejaVuSans-2212\"/>\n       <use xlink:href=\"#DejaVuSans-30\" x=\"83.789062\"/>\n       <use xlink:href=\"#DejaVuSans-2e\" x=\"147.412109\"/>\n       <use xlink:href=\"#DejaVuSans-35\" x=\"179.199219\"/>\n      </g>\n     </g>\n    </g>\n    <g id=\"ytick_6\">\n     <g id=\"line2d_12\">\n      <path d=\"M 43.411094 87.411141 \nL 400.531094 87.411141 \n\" clip-path=\"url(#pb2608a921a)\" style=\"fill: none; stroke: #ffffff; stroke-linecap: round\"/>\n     </g>\n     <g id=\"text_12\">\n      <!-- 0.0 -->\n      <g style=\"fill: #262626\" transform=\"translate(16.417656 91.590281) scale(0.11 -0.11)\">\n       <use xlink:href=\"#DejaVuSans-30\"/>\n       <use xlink:href=\"#DejaVuSans-2e\" x=\"63.623047\"/>\n       <use xlink:href=\"#DejaVuSans-30\" x=\"95.410156\"/>\n      </g>\n     </g>\n    </g>\n    <g id=\"ytick_7\">\n     <g id=\"line2d_13\">\n      <path d=\"M 43.411094 49.395141 \nL 400.531094 49.395141 \n\" clip-path=\"url(#pb2608a921a)\" style=\"fill: none; stroke: #ffffff; stroke-linecap: round\"/>\n     </g>\n     <g id=\"text_13\">\n      <!-- 0.5 -->\n      <g style=\"fill: #262626\" transform=\"translate(16.417656 53.574281) scale(0.11 -0.11)\">\n       <use xlink:href=\"#DejaVuSans-30\"/>\n       <use xlink:href=\"#DejaVuSans-2e\" x=\"63.623047\"/>\n       <use xlink:href=\"#DejaVuSans-35\" x=\"95.410156\"/>\n      </g>\n     </g>\n    </g>\n    <g id=\"ytick_8\">\n     <g id=\"line2d_14\">\n      <path d=\"M 43.411094 11.379141 \nL 400.531094 11.379141 \n\" clip-path=\"url(#pb2608a921a)\" style=\"fill: none; stroke: #ffffff; stroke-linecap: round\"/>\n     </g>\n     <g id=\"text_14\">\n      <!-- 1.0 -->\n      <g style=\"fill: #262626\" transform=\"translate(16.417656 15.558281) scale(0.11 -0.11)\">\n       <use xlink:href=\"#DejaVuSans-31\"/>\n       <use xlink:href=\"#DejaVuSans-2e\" x=\"63.623047\"/>\n       <use xlink:href=\"#DejaVuSans-30\" x=\"95.410156\"/>\n      </g>\n     </g>\n    </g>\n   </g>\n   <g id=\"PolyCollection_1\"/>\n   <g id=\"PolyCollection_2\"/>\n   <g id=\"line2d_15\">\n    <path d=\"M 120.261271 -1 \nL 121.951256 42.632771 \nL 125.230602 96.196823 \nL 128.509933 129.106757 \nL 131.789279 148.3248 \nL 135.06861 158.510936 \nL 138.347956 162.794885 \nL 141.627302 163.282019 \nL 144.906632 161.388667 \nL 148.185978 158.065458 \nL 151.465309 153.947225 \nL 154.744655 149.454085 \nL 158.023985 144.860116 \nL 161.303331 140.340043 \nL 164.582662 136.001281 \nL 167.862008 131.905725 \nL 171.141339 128.084941 \nL 174.420685 124.550341 \nL 177.700015 121.300444 \nL 180.979361 118.325536 \nL 184.258692 115.611176 \nL 187.538038 113.140234 \nL 190.817368 110.894545 \nL 194.096714 108.855763 \nL 197.376045 107.006039 \nL 200.655391 105.3284 \nL 203.934722 103.806924 \nL 207.214068 102.426868 \nL 210.493398 101.174715 \nL 213.772744 100.038082 \nL 217.05209 99.005751 \nL 220.331436 98.067552 \nL 223.610767 97.214305 \nL 226.890113 96.437714 \nL 230.169443 95.730341 \nL 233.448789 95.085473 \nL 236.72812 94.497083 \nL 240.007466 93.959749 \nL 243.286797 93.468618 \nL 246.566143 93.019305 \nL 249.845473 92.607883 \nL 253.124819 92.23082 \nL 256.40415 91.884933 \nL 259.683496 91.567364 \nL 262.962842 91.275531 \nL 266.242157 91.007118 \nL 269.521503 90.760026 \nL 272.800849 90.532365 \nL 276.080195 90.32243 \nL 279.35951 90.128679 \nL 282.638856 89.949711 \nL 285.918202 89.784265 \nL 289.197548 89.631197 \nL 292.476863 89.489467 \nL 295.756209 89.358132 \nL 299.035555 89.236336 \nL 302.314901 89.123302 \nL 305.594216 89.018319 \nL 308.873562 88.920743 \nL 312.152908 88.829986 \nL 315.432255 88.74551 \nL 318.71157 88.666828 \nL 321.990916 88.593491 \nL 325.270262 88.525089 \nL 328.549608 88.461247 \nL 331.828923 88.401625 \nL 335.108269 88.345905 \nL 338.387615 88.293801 \nL 341.666961 88.245048 \nL 344.946276 88.199402 \nL 348.225653 88.156638 \nL 351.504999 88.116553 \nL 354.784345 88.078956 \nL 358.06366 88.043673 \nL 361.343006 88.010543 \nL 364.622352 87.979416 \nL 367.901698 87.950157 \nL 371.181013 87.922638 \nL 374.460359 87.896743 \nL 377.739674 87.872363 \nL 381.01902 87.849397 \nL 384.298366 87.827754 \n\" clip-path=\"url(#pb2608a921a)\" style=\"fill: none; stroke: #4c72b0; stroke-width: 1.5; stroke-linecap: round\"/>\n   </g>\n   <g id=\"line2d_16\">\n    <path d=\"M 138.256376 -1 \nL 138.347956 4.2101 \nL 141.627302 122.82767 \nL 144.906632 195.770913 \nL 148.185978 238.124673 \nL 151.465309 260.133608 \nL 154.744655 268.766856 \nL 158.023985 268.765769 \nL 161.303331 263.351247 \nL 164.582662 254.702826 \nL 167.862008 244.285257 \nL 171.141339 233.072691 \nL 174.420685 221.701973 \nL 177.700015 210.579084 \nL 180.979361 199.952034 \nL 184.258692 189.962173 \nL 187.538038 180.678766 \nL 190.817368 172.123765 \nL 194.096714 164.288215 \nL 197.376045 157.144208 \nL 200.655391 150.652536 \nL 203.934722 144.768105 \nL 207.214068 139.443496 \nL 210.493398 134.631431 \nL 213.772744 130.285979 \nL 217.05209 126.363776 \nL 220.331436 122.824273 \nL 223.610767 119.630091 \nL 226.890113 116.746931 \nL 230.169443 114.143667 \nL 233.448789 111.792039 \nL 236.72812 109.666572 \nL 240.007466 107.744304 \nL 243.286797 106.004646 \nL 246.566143 104.429081 \nL 249.845473 103.001042 \nL 253.124819 101.705669 \nL 256.40415 100.529675 \nL 259.683496 99.461152 \nL 262.962842 98.489455 \nL 266.242157 97.60505 \nL 269.521503 96.799385 \nL 272.800849 96.064815 \nL 276.080195 95.394484 \nL 279.35951 94.782247 \nL 282.638856 94.222573 \nL 285.918202 93.710517 \nL 289.197548 93.241626 \nL 292.476863 92.811901 \nL 295.756209 92.417733 \nL 299.035555 92.055885 \nL 302.314901 91.723433 \nL 305.594216 91.417745 \nL 308.873562 91.136436 \nL 312.152908 90.877359 \nL 315.432255 90.638573 \nL 318.71157 90.41832 \nL 321.990916 90.215005 \nL 325.270262 90.027187 \nL 328.549608 89.853556 \nL 331.828923 89.692927 \nL 335.108269 89.544217 \nL 338.387615 89.406446 \nL 341.666961 89.278722 \nL 344.946276 89.160232 \nL 348.225653 89.050231 \nL 351.504999 88.948047 \nL 354.784345 88.853062 \nL 358.06366 88.764713 \nL 361.343006 88.682483 \nL 364.622352 88.605902 \nL 367.901698 88.534537 \nL 371.181013 88.467994 \nL 374.460359 88.40591 \nL 377.739674 88.347954 \nL 381.01902 88.293817 \nL 384.298366 88.243222 \n\" clip-path=\"url(#pb2608a921a)\" style=\"fill: none; stroke: #dd8452; stroke-width: 1.5; stroke-linecap: round\"/>\n   </g>\n   <g id=\"line2d_17\">\n    <path d=\"M 140.477874 277.491141 \nL 140.477874 11.379141 \n\" clip-path=\"url(#pb2608a921a)\" style=\"fill: none; stroke-dasharray: 5.55,2.4; stroke-dashoffset: 0; stroke: #7f7f7f; stroke-width: 1.5\"/>\n   </g>\n   <g id=\"patch_3\">\n    <path d=\"M 43.411094 277.491141 \nL 43.411094 11.379141 \n\" style=\"fill: none; stroke: #ffffff; stroke-width: 1.25; stroke-linejoin: miter; stroke-linecap: square\"/>\n   </g>\n   <g id=\"patch_4\">\n    <path d=\"M 400.531094 277.491141 \nL 400.531094 11.379141 \n\" style=\"fill: none; stroke: #ffffff; stroke-width: 1.25; stroke-linejoin: miter; stroke-linecap: square\"/>\n   </g>\n   <g id=\"patch_5\">\n    <path d=\"M 43.411094 277.491141 \nL 400.531094 277.491141 \n\" style=\"fill: none; stroke: #ffffff; stroke-width: 1.25; stroke-linejoin: miter; stroke-linecap: square\"/>\n   </g>\n   <g id=\"patch_6\">\n    <path d=\"M 43.411094 11.379141 \nL 400.531094 11.379141 \n\" style=\"fill: none; stroke: #ffffff; stroke-width: 1.25; stroke-linejoin: miter; stroke-linecap: square\"/>\n   </g>\n  </g>\n </g>\n <defs>\n  <clipPath id=\"pb2608a921a\">\n   <rect x=\"43.411094\" y=\"11.379141\" width=\"357.12\" height=\"266.112\"/>\n  </clipPath>\n </defs>\n</svg>\n",
      "text/plain": [
       "<Figure size 640x480 with 1 Axes>"
      ]
     },
     "metadata": {},
     "output_type": "display_data"
    }
   ],
   "source": [
    "r = torch.linspace(0.5, 3, 100)\n",
    "V = lennard_jones(r)\n",
    "F = -dlj_dr(r)\n",
    "sns.lineplot(x=r, y=V)\n",
    "sns.lineplot(x=r, y=F)\n",
    "plt.ylim(-2.5, 1)\n",
    "plt.gca().axvline(x=2.0 ** (1 / 6), ls=\"--\", c=\"tab:grey\");"
   ]
  },
  {
   "cell_type": "code",
   "execution_count": 4,
   "metadata": {},
   "outputs": [
    {
     "data": {
      "text/plain": [
       "True"
      ]
     },
     "execution_count": 4,
     "metadata": {},
     "output_type": "execute_result"
    }
   ],
   "source": [
    "F_autograd = -vmap(grad(lennard_jones))(r)\n",
    "torch.allclose(F_autograd, F)"
   ]
  },
  {
   "cell_type": "code",
   "execution_count": 5,
   "metadata": {},
   "outputs": [],
   "source": [
    "from functorch.compile import print_compile"
   ]
  },
  {
   "cell_type": "code",
   "execution_count": 6,
   "metadata": {},
   "outputs": [
    {
     "name": "stdout",
     "output_type": "stream",
     "text": [
      "\n",
      "\n",
      "\n",
      "def forward(self, primals_1):\n",
      "    _tensor_constant0 = self._tensor_constant0\n",
      "    lift_fresh_copy = torch.ops.aten.lift_fresh_copy.default(_tensor_constant0);  _tensor_constant0 = None\n",
      "    _tensor_constant1 = self._tensor_constant1\n",
      "    lift_fresh_copy_1 = torch.ops.aten.lift_fresh_copy.default(_tensor_constant1);  _tensor_constant1 = None\n",
      "    div = torch.ops.aten.div.Tensor(lift_fresh_copy, primals_1)\n",
      "    pow_1 = torch.ops.aten.pow.Tensor_Scalar(div, 2)\n",
      "    mul = torch.ops.aten.mul.Tensor(pow_1, pow_1)\n",
      "    mul_1 = torch.ops.aten.mul.Tensor(mul, pow_1)\n",
      "    _tensor_constant2 = self._tensor_constant2\n",
      "    lift_fresh_copy_2 = torch.ops.aten.lift_fresh_copy.default(_tensor_constant2);  _tensor_constant2 = None\n",
      "    mul_2 = torch.ops.aten.mul.Tensor(lift_fresh_copy_2, lift_fresh_copy_1);  lift_fresh_copy_2 = lift_fresh_copy_1 = None\n",
      "    mul_3 = torch.ops.aten.mul.Tensor(mul_1, mul_1)\n",
      "    sub = torch.ops.aten.sub.Tensor(mul_3, mul_1);  mul_3 = None\n",
      "    mul_4 = torch.ops.aten.mul.Tensor(mul_2, sub);  sub = None\n",
      "    return [mul_4, div, lift_fresh_copy, primals_1, mul_2, mul, pow_1, mul_1]\n",
      "    \n",
      "\n",
      "\n",
      "\n",
      "def forward(self, div, lift_fresh_copy, primals_1, mul_2, mul, pow_1, mul_1, tangents_1):\n",
      "    mul_5 = torch.ops.aten.mul.Tensor(tangents_1, mul_2);  tangents_1 = mul_2 = None\n",
      "    neg = torch.ops.aten.neg.default(mul_5)\n",
      "    mul_6 = torch.ops.aten.mul.Tensor(mul_5, mul_1)\n",
      "    mul_7 = torch.ops.aten.mul.Tensor(mul_5, mul_1);  mul_5 = mul_1 = None\n",
      "    add = torch.ops.aten.add.Tensor(neg, mul_7);  neg = mul_7 = None\n",
      "    add_1 = torch.ops.aten.add.Tensor(add, mul_6);  add = mul_6 = None\n",
      "    mul_8 = torch.ops.aten.mul.Tensor(add_1, mul);  mul = None\n",
      "    mul_9 = torch.ops.aten.mul.Tensor(add_1, pow_1);  add_1 = None\n",
      "    mul_10 = torch.ops.aten.mul.Tensor(mul_9, pow_1)\n",
      "    mul_11 = torch.ops.aten.mul.Tensor(mul_9, pow_1);  mul_9 = pow_1 = None\n",
      "    add_2 = torch.ops.aten.add.Tensor(mul_8, mul_11);  mul_8 = mul_11 = None\n",
      "    add_3 = torch.ops.aten.add.Tensor(add_2, mul_10);  add_2 = mul_10 = None\n",
      "    pow_2 = torch.ops.aten.pow.Tensor_Scalar(div, 1.0);  div = None\n",
      "    mul_12 = torch.ops.aten.mul.Scalar(pow_2, 2.0);  pow_2 = None\n",
      "    mul_13 = torch.ops.aten.mul.Tensor(add_3, mul_12);  add_3 = mul_12 = None\n",
      "    div_1 = torch.ops.aten.div.Tensor(lift_fresh_copy, primals_1);  lift_fresh_copy = None\n",
      "    div_2 = torch.ops.aten.div.Tensor(div_1, primals_1);  div_1 = primals_1 = None\n",
      "    neg_1 = torch.ops.aten.neg.default(mul_13);  mul_13 = None\n",
      "    mul_14 = torch.ops.aten.mul.Tensor(neg_1, div_2);  neg_1 = div_2 = None\n",
      "    return [mul_14]\n",
      "    \n"
     ]
    }
   ],
   "source": [
    "b = aot_function(lennard_jones, fw_compiler=print_compile, bw_compiler=print_compile)\n",
    "x = torch.linspace(0, 4, 10, requires_grad=True)\n",
    "y = b(x)\n",
    "y.sum().backward()"
   ]
  },
  {
   "cell_type": "code",
   "execution_count": 7,
   "metadata": {},
   "outputs": [
    {
     "data": {
      "text/plain": [
       "function"
      ]
     },
     "execution_count": 7,
     "metadata": {},
     "output_type": "execute_result"
    }
   ],
   "source": [
    "type(b)"
   ]
  },
  {
   "cell_type": "code",
   "execution_count": 8,
   "metadata": {},
   "outputs": [
    {
     "name": "stdout",
     "output_type": "stream",
     "text": [
      "\n",
      "\n",
      "\n",
      "def forward(self, primals_1, primals_2):\n",
      "    index_select = torch.ops.aten.index_select.default(primals_1, 0, primals_2);  primals_1 = None\n",
      "    return [index_select, primals_2]\n",
      "    \n",
      "\n",
      "\n",
      "\n",
      "def forward(self, primals_2, tangents_1):\n",
      "    new_zeros = torch.ops.aten.new_zeros.default(tangents_1, [5, 4], dtype = torch.float32, layout = torch.strided, device = device(type='cpu'))\n",
      "    index_add = torch.ops.aten.index_add.default(new_zeros, 0, primals_2, tangents_1);  new_zeros = primals_2 = tangents_1 = None\n",
      "    return [index_add, None]\n",
      "    \n"
     ]
    }
   ],
   "source": [
    "def gather(x, index):\n",
    "    return x.index_select(0, index)\n",
    "\n",
    "\n",
    "b = aot_function(gather, fw_compiler=print_compile, bw_compiler=print_compile)\n",
    "\n",
    "x = torch.randn(5, 4, requires_grad=True)\n",
    "index = torch.arange(5)\n",
    "\n",
    "y = b(x, index)\n",
    "y.sum().backward()"
   ]
  },
  {
   "cell_type": "code",
   "execution_count": 9,
   "metadata": {},
   "outputs": [],
   "source": [
    "def potential_and_force(r):\n",
    "    v = lennard_jones(r)\n",
    "    f = -vmap(grad(lennard_jones))(r)\n",
    "    return v, f"
   ]
  },
  {
   "cell_type": "code",
   "execution_count": 10,
   "metadata": {},
   "outputs": [
    {
     "name": "stderr",
     "output_type": "stream",
     "text": [
      "/nethome/hatemh/miniforge3/envs/hydronet/lib/python3.8/site-packages/functorch/_src/aot_autograd.py:255: UserWarning: Your compiler for AOTAutograd is returning a a function that doesn't take boxed arguments. Please wrap it with functorch.compile.make_boxed_func or handle the boxed arguments yourself. See https://github.com/pytorch/pytorch/pull/83137#issuecomment-1211320670 for rationale.\n",
      "  warnings.warn(\n"
     ]
    },
    {
     "data": {
      "text/plain": [
       "(tensor([ 0.0000, -0.0246, -0.0016, -0.0003],\n",
       "        grad_fn=<CompiledFunctionBackward>),\n",
       " tensor([ 2.4000e+01, -6.2944e-02, -2.6912e-03, -3.0716e-04],\n",
       "        grad_fn=<CompiledFunctionBackward>))"
      ]
     },
     "execution_count": 10,
     "metadata": {},
     "output_type": "execute_result"
    }
   ],
   "source": [
    "f = aot_function(potential_and_force, fw_compiler=symbolic_trace)\n",
    "\n",
    "x = torch.linspace(1, 5, 4, requires_grad=True)\n",
    "f(x)"
   ]
  },
  {
   "cell_type": "code",
   "execution_count": 11,
   "metadata": {},
   "outputs": [],
   "source": [
    "import poptorch"
   ]
  },
  {
   "cell_type": "code",
   "execution_count": 12,
   "metadata": {},
   "outputs": [
    {
     "name": "stderr",
     "output_type": "stream",
     "text": [
      "[15:34:14.798] [poptorch:cpp] [trace] Setting op source to: /tmp/ipykernel_1652158/888324035.py:16\n",
      "[15:34:14.798] [poptorch:cpp] [debug] [DISPATCHER] Intercepting aten::empty_strided, device ipu:0\n",
      "[15:34:14.798] [poptorch:cpp] [trace] Created IPU tensor: id 1 impl_ 0x562007f3b320 size [4] strides 1 dtype Float\n",
      "[15:34:14.798] [poptorch:cpp] [trace] Setting op source to: /tmp/ipykernel_1652158/888324035.py:16\n",
      "[15:34:14.798] [poptorch:cpp] [trace] Adding 0x562007f3b320 to value mapper 0x56200974f7f8, JIT ir: 6\n",
      "[15:34:14.798] [poptorch:cpp] [debug] [DISPATCHER] Intercepting aten::copy_\n",
      "[15:34:14.798] [poptorch:cpp] [trace] [Input] self impl_ 0x562007f3b320 type ipu ID 1 sizes [4] dtype float\n",
      "[15:34:14.798] [poptorch:cpp] [trace] [Input] src impl_ 0x562009730780 type cpu sizes [4] dtype float\n",
      "[15:34:14.799] [poptorch:cpp] [trace] Setting op source to: /tmp/ipykernel_1652158/888324035.py:16\n",
      "[15:34:14.799] [poptorch:cpp] [trace] [DISPATCHER] Copying from CPU tensor 0x562009730780 with data_ptr 0x56200970c500\n",
      "[15:34:14.799] [poptorch:cpp] [trace] [DISPATCHER] Adding input: Value 0x56200975b790 with cpu ptr 0x56200970c500\n",
      "[15:34:14.799] [poptorch:cpp] [trace] Tracking tensor %7\n",
      "[15:34:14.799] [poptorch:cpp] [trace] Adding 0x562007f3b320 to value mapper 0x56200974f7f8, JIT ir: 7\n",
      "[15:34:14.799] [poptorch:cpp] [debug] copy_ CPU -> IPU input, new self impl_ 0x562007f3b320 type ipu ID 1 sizes [4] dtype float\n",
      "[15:34:14.799] [poptorch:cpp] [trace] exchangeDevice: current ipu:0 new ipu:0\n",
      "[15:34:14.799] [poptorch:cpp] [debug] [DISPATCHER] Intercepting aten::empty.memory_format, device ipu:0\n",
      "[15:34:14.799] [poptorch:cpp] [trace] Created IPU tensor: id 2 impl_ 0x5620087dbff0 size [4] strides 1 dtype Float\n",
      "[15:34:14.800] [poptorch:cpp] [trace] Setting op source to: <eval_with_key>.15:6\n",
      "[15:34:14.800] [poptorch:cpp] [trace] Adding 0x5620087dbff0 to value mapper 0x56200974f7f8, JIT ir: 14\n",
      "[15:34:14.800] [poptorch:cpp] [debug] [DISPATCHER] Intercepting aten::div.out(Tensor self, Tensor other, *, Tensor(a!) out) -> Tensor(a!) \n",
      "[15:34:14.800] [poptorch:cpp] [trace] Setting op source to: <eval_with_key>.15:6\n",
      "[15:34:14.800] [poptorch:cpp] [trace] [Input aten::div] impl_ 0x5620080f4e00 type cpu sizes [] dtype float\n",
      "[15:34:14.800] [poptorch:cpp] [trace] [Input aten::div] impl_ 0x562007f3b320 type ipu ID 1 sizes [4] dtype float\n",
      "[15:34:14.800] [poptorch:cpp] [trace] [Input aten::div] impl_ 0x5620087dbff0 type ipu ID 2 sizes [4] dtype float\n",
      "[15:34:14.800] [poptorch:cpp] [trace] [DISPATCHER][JIT] Looking for inplace arguments in schema aten::div.out(Tensor self, Tensor other, *, Tensor(a!) out) -> Tensor(a!)\n",
      "[15:34:14.800] [poptorch:cpp] [trace] [DISPATCHER][JIT] Found inplace argument, tensor ptr 0x5620087dbff0, tensor sizes=[4], type=Float\n",
      "[15:34:14.800] [poptorch:cpp] [trace] [DISPATCHER] Tensor input: tensor ptr 0x5620080f4e00 (sizes=[], type=Float), jit ir %15 (scalar type Float)\n",
      "[15:34:14.800] [poptorch:cpp] [trace] [DISPATCHER] Tensor input: tensor ptr 0x562007f3b320 (sizes=[4], type=Float), jit ir %7 (scalar type Float)\n",
      "[15:34:14.800] [poptorch:cpp] [trace] [DISPATCHER] Tensor input: tensor ptr 0x5620087dbff0 (sizes=[4], type=Float), jit ir %14 (scalar type Float)\n",
      "[15:34:14.800] [poptorch:cpp] [trace] [DISPATCHER][JIT] Node from schema %16 : Tensor = aten::div(%15, %7, %14) # <eval_with_key>.15:6:0\n",
      "\n",
      "[15:34:16.066] [poptorch:cpp] [trace] Full error: Expected an IPU tensor but got tensor(device=cpu, shape=[], dtype=Float).\n",
      "Constant tensors should be moved explicitly to the IPU, via cpu_tensor.to(\"ipu\").\n",
      "Stacktrace:\n",
      " 0# poptorch::TypeInferenceHandler::createMetaStack(std::vector<c10::IValue, std::allocator<c10::IValue> > const&, std::basic_string_view<char, std::char_traits<char> >, bool) at /opt/jenkins/workspace/poptorch/poptorch_ci_ubuntu_20_04/unprivileged/poptorch/poptorch/source/dispatch_tracer/TypeInferenceHandler.cpp:56\n",
      " 1# poptorch::TypeInferenceHandler::inferOutputTypes(c10::OperatorHandle const&, std::vector<c10::IValue, std::allocator<c10::IValue> >*) at /opt/jenkins/workspace/poptorch/poptorch_ci_ubuntu_20_04/unprivileged/poptorch/poptorch/source/dispatch_tracer/TypeInferenceHandler.cpp:26\n",
      " 2# poptorch::JITDispatch::fallback(c10::OperatorHandle const&, std::vector<c10::IValue, std::allocator<c10::IValue> >*) at /opt/jenkins/workspace/poptorch/poptorch_ci_ubuntu_20_04/unprivileged/poptorch/poptorch/source/dispatch_tracer/dispatchers/JitDispatch.cpp:382\n",
      " 3# poptorch::fallback(c10::OperatorHandle const&, std::vector<c10::IValue, std::allocator<c10::IValue> >*) at /opt/jenkins/workspace/poptorch/poptorch_ci_ubuntu_20_04/unprivileged/poptorch/poptorch/source/dispatch_tracer/RegisterAtenOverloads.cpp:470\n",
      " 4# void c10::BoxedKernel::make_boxed_function<&PoptorchCatchWrapperImpl<&poptorch::throwPoptorchError, false, void (*)(c10::OperatorHandle const&, std::vector<c10::IValue, std::allocator<c10::IValue> >*), &poptorch::fallback>::wrap>(c10::OperatorKernel*, c10::OperatorHandle const&, c10::DispatchKeySet, std::vector<c10::IValue, std::allocator<c10::IValue> >*) at buildenv/lib/python3.8/site-packages/torch/include/ATen/core/boxing/BoxedKernel_impl.h:20\n",
      " 5# c10::impl::BoxedKernelWrapper<at::Tensor& (at::Tensor const&, at::Tensor const&, at::Tensor&), void>::call(c10::BoxedKernel const&, c10::OperatorHandle const&, c10::DispatchKeySet, at::Tensor const&, at::Tensor const&, at::Tensor&) in /nethome/hatemh/miniforge3/envs/hydronet/lib/python3.8/site-packages/torch/lib/libtorch_cpu.so\n",
      " 6# at::_ops::div_out::call(at::Tensor const&, at::Tensor const&, at::Tensor&) in /nethome/hatemh/miniforge3/envs/hydronet/lib/python3.8/site-packages/torch/lib/libtorch_cpu.so\n",
      " 7# at::(anonymous namespace)::wrapper_div_Tensor(at::Tensor const&, at::Tensor const&) in /nethome/hatemh/miniforge3/envs/hydronet/lib/python3.8/site-packages/torch/lib/libtorch_cpu.so\n",
      " 8# c10::impl::wrap_kernel_functor_unboxed_<c10::impl::detail::WrapFunctionIntoFunctor_<c10::CompileTimeFunctionPointer<at::Tensor (at::Tensor const&, at::Tensor const&), &at::(anonymous namespace)::wrapper_div_Tensor>, at::Tensor, c10::guts::typelist::typelist<at::Tensor const&, at::Tensor const&> >, at::Tensor (at::Tensor const&, at::Tensor const&)>::call(c10::OperatorKernel*, c10::DispatchKeySet, at::Tensor const&, at::Tensor const&) in /nethome/hatemh/miniforge3/envs/hydronet/lib/python3.8/site-packages/torch/lib/libtorch_cpu.so\n",
      " 9# at::_ops::div_Tensor::redispatch(c10::DispatchKeySet, at::Tensor const&, at::Tensor const&) in /nethome/hatemh/miniforge3/envs/hydronet/lib/python3.8/site-packages/torch/lib/libtorch_cpu.so\n",
      "10# torch::autograd::VariableType::(anonymous namespace)::div_Tensor(c10::DispatchKeySet, at::Tensor const&, at::Tensor const&) in /nethome/hatemh/miniforge3/envs/hydronet/lib/python3.8/site-packages/torch/lib/libtorch_cpu.so\n",
      "11# c10::impl::make_boxed_from_unboxed_functor<c10::impl::detail::WrapFunctionIntoFunctor_<c10::CompileTimeFunctionPointer<at::Tensor (c10::DispatchKeySet, at::Tensor const&, at::Tensor const&), &torch::autograd::VariableType::(anonymous namespace)::div_Tensor>, at::Tensor, c10::guts::typelist::typelist<c10::DispatchKeySet, at::Tensor const&, at::Tensor const&> >, false>::call(c10::OperatorKernel*, c10::OperatorHandle const&, c10::DispatchKeySet, std::vector<c10::IValue, std::allocator<c10::IValue> >*) in /nethome/hatemh/miniforge3/envs/hydronet/lib/python3.8/site-packages/torch/lib/libtorch_cpu.so\n",
      "12# c10::Dispatcher::callBoxed(c10::OperatorHandle const&, std::vector<c10::IValue, std::allocator<c10::IValue> >*) const in /nethome/hatemh/miniforge3/envs/hydronet/lib/python3.8/site-packages/torch/lib/libtorch_cpu.so\n",
      "13# torch::jit::invokeOperatorFromPython(std::vector<std::shared_ptr<torch::jit::Operator>, std::allocator<std::shared_ptr<torch::jit::Operator> > > const&, pybind11::args, pybind11::kwargs const&, c10::optional<c10::DispatchKey>) in /nethome/hatemh/miniforge3/envs/hydronet/lib/python3.8/site-packages/torch/lib/libtorch_python.so\n",
      "14# torch::jit::_get_operation_for_overload_or_packet(std::vector<std::shared_ptr<torch::jit::Operator>, std::allocator<std::shared_ptr<torch::jit::Operator> > > const&, c10::Symbol, pybind11::args, pybind11::kwargs const&, bool, c10::optional<c10::DispatchKey>) in /nethome/hatemh/miniforge3/envs/hydronet/lib/python3.8/site-packages/torch/lib/libtorch_python.so\n",
      "15# pybind11::cpp_function::initialize<torch::jit::initJITBindings(_object*)::{lambda(std::string const&, std::string const&)#191}::operator()(std::string const&, std::string const&) const::{lambda(pybind11::args, pybind11::kwargs)#1}, pybind11::object, pybind11::args, pybind11::kwargs>(torch::jit::initJITBindings(_object*)::{lambda(std::string const&, std::string const&)#191}::operator()(std::string const&, std::string const&) const::{lambda(pybind11::args, pybind11::kwargs)#1}&&, pybind11::object (*)(pybind11::args, pybind11::kwargs))::{lambda(pybind11::detail::function_call&)#3}::_FUN(pybind11::detail::function_call&) in /nethome/hatemh/miniforge3/envs/hydronet/lib/python3.8/site-packages/torch/lib/libtorch_python.so\n",
      "16# pybind11::cpp_function::dispatcher(_object*, _object*, _object*) in /nethome/hatemh/miniforge3/envs/hydronet/lib/python3.8/site-packages/torch/lib/libtorch_python.so\n",
      "17# PyCFunction_Call at /home/conda/feedstock_root/build_artifacts/python-split_1631566923692/work/Objects/call.c:773\n",
      "18# _PyEval_EvalFrameDefault at /home/conda/feedstock_root/build_artifacts/python-split_1631566923692/work/Python/ceval.c:3559\n",
      "19# _PyEval_EvalCodeWithName at /home/conda/feedstock_root/build_artifacts/python-split_1631566923692/work/Python/ceval.c:4298\n",
      "20# _PyObject_FastCallDict at /home/conda/feedstock_root/build_artifacts/python-split_1631566923692/work/Objects/call.c:96\n",
      "21# _PyObject_Call_Prepend at /home/conda/feedstock_root/build_artifacts/python-split_1631566923692/work/Objects/call.c:895\n",
      "22# slot_tp_call at /home/conda/feedstock_root/build_artifacts/python-split_1631566923692/work/Objects/typeobject.c:6562\n",
      "23# _PyObject_MakeTpCall at /home/conda/feedstock_root/build_artifacts/python-split_1631566923692/work/Objects/call.c:159\n",
      "24# _PyEval_EvalFrameDefault at /home/conda/feedstock_root/build_artifacts/python-split_1631566923692/work/Python/ceval.c:3469\n",
      "25# _PyFunction_Vectorcall at /home/conda/feedstock_root/build_artifacts/python-split_1631566923692/work/Objects/call.c:411\n",
      "26# method_vectorcall at /home/conda/feedstock_root/build_artifacts/python-split_1631566923692/work/Objects/classobject.c:89\n",
      "27# PyObject_Call at /home/conda/feedstock_root/build_artifacts/python-split_1631566923692/work/Objects/call.c:228\n",
      "28# _PyEval_EvalFrameDefault at /home/conda/feedstock_root/build_artifacts/python-split_1631566923692/work/Python/ceval.c:3559\n",
      "29# _PyEval_EvalCodeWithName at /home/conda/feedstock_root/build_artifacts/python-split_1631566923692/work/Python/ceval.c:4298\n",
      "30# _PyFunction_Vectorcall at /home/conda/feedstock_root/build_artifacts/python-split_1631566923692/work/Objects/call.c:436\n",
      "31# method_vectorcall at /home/conda/feedstock_root/build_artifacts/python-split_1631566923692/work/Objects/classobject.c:89\n",
      "32# PyObject_Call at /home/conda/feedstock_root/build_artifacts/python-split_1631566923692/work/Objects/call.c:228\n",
      "33# _PyEval_EvalFrameDefault at /home/conda/feedstock_root/build_artifacts/python-split_1631566923692/work/Python/ceval.c:3559\n",
      "34# _PyEval_EvalCodeWithName at /home/conda/feedstock_root/build_artifacts/python-split_1631566923692/work/Python/ceval.c:4298\n",
      "35# _PyFunction_Vectorcall at /home/conda/feedstock_root/build_artifacts/python-split_1631566923692/work/Objects/call.c:436\n",
      "36# _PyObject_FastCallDict at /home/conda/feedstock_root/build_artifacts/python-split_1631566923692/work/Objects/call.c:105\n",
      "37# _PyObject_Call_Prepend at /home/conda/feedstock_root/build_artifacts/python-split_1631566923692/work/Objects/call.c:895\n",
      "38# slot_tp_call at /home/conda/feedstock_root/build_artifacts/python-split_1631566923692/work/Objects/typeobject.c:6562\n",
      "39# PyObject_Call at /home/conda/feedstock_root/build_artifacts/python-split_1631566923692/work/Objects/call.c:248\n",
      "40# _PyEval_EvalFrameDefault at /home/conda/feedstock_root/build_artifacts/python-split_1631566923692/work/Python/ceval.c:3559\n",
      "41# _PyEval_EvalCodeWithName at /home/conda/feedstock_root/build_artifacts/python-split_1631566923692/work/Python/ceval.c:4298\n",
      "42# _PyObject_FastCallDict at /home/conda/feedstock_root/build_artifacts/python-split_1631566923692/work/Objects/call.c:96\n",
      "43# _PyObject_Call_Prepend at /home/conda/feedstock_root/build_artifacts/python-split_1631566923692/work/Objects/call.c:895\n",
      "44# slot_tp_call at /home/conda/feedstock_root/build_artifacts/python-split_1631566923692/work/Objects/typeobject.c:6562\n",
      "45# PyObject_Call at /home/conda/feedstock_root/build_artifacts/python-split_1631566923692/work/Objects/call.c:248\n",
      "46# _PyEval_EvalFrameDefault at /home/conda/feedstock_root/build_artifacts/python-split_1631566923692/work/Python/ceval.c:3559\n",
      "47# _PyEval_EvalCodeWithName at /home/conda/feedstock_root/build_artifacts/python-split_1631566923692/work/Python/ceval.c:4298\n",
      "48# _PyFunction_Vectorcall at /home/conda/feedstock_root/build_artifacts/python-split_1631566923692/work/Objects/call.c:436\n",
      "49# _PyEval_EvalFrameDefault at /home/conda/feedstock_root/build_artifacts/python-split_1631566923692/work/Python/ceval.c:3500\n",
      "50# _PyEval_EvalCodeWithName at /home/conda/feedstock_root/build_artifacts/python-split_1631566923692/work/Python/ceval.c:4298\n",
      "51# _PyFunction_Vectorcall at /home/conda/feedstock_root/build_artifacts/python-split_1631566923692/work/Objects/call.c:436\n",
      "52# PyObject_CallObject at /home/conda/feedstock_root/build_artifacts/python-split_1631566923692/work/Objects/call.c:818\n",
      "53# THPFunction_apply(_object*, _object*) in /nethome/hatemh/miniforge3/envs/hydronet/lib/python3.8/site-packages/torch/lib/libtorch_python.so\n",
      "54# PyCFunction_Call at /home/conda/feedstock_root/build_artifacts/python-split_1631566923692/work/Objects/call.c:773\n",
      "55# _PyEval_EvalFrameDefault at /home/conda/feedstock_root/build_artifacts/python-split_1631566923692/work/Python/ceval.c:3559\n",
      "56# _PyEval_EvalCodeWithName at /home/conda/feedstock_root/build_artifacts/python-split_1631566923692/work/Python/ceval.c:4298\n",
      "57# _PyFunction_Vectorcall at /home/conda/feedstock_root/build_artifacts/python-split_1631566923692/work/Objects/call.c:436\n",
      "58# PyObject_Call at /home/conda/feedstock_root/build_artifacts/python-split_1631566923692/work/Objects/call.c:228\n",
      "59# _PyEval_EvalFrameDefault at /home/conda/feedstock_root/build_artifacts/python-split_1631566923692/work/Python/ceval.c:3559\n",
      "60# _PyEval_EvalCodeWithName at /home/conda/feedstock_root/build_artifacts/python-split_1631566923692/work/Python/ceval.c:4298\n",
      "61# _PyFunction_Vectorcall at /home/conda/feedstock_root/build_artifacts/python-split_1631566923692/work/Objects/call.c:436\n",
      "62# _PyEval_EvalFrameDefault at /home/conda/feedstock_root/build_artifacts/python-split_1631566923692/work/Python/ceval.c:3500\n",
      "63# _PyEval_EvalCodeWithName at /home/conda/feedstock_root/build_artifacts/python-split_1631566923692/work/Python/ceval.c:4298\n",
      "64# _PyFunction_Vectorcall at /home/conda/feedstock_root/build_artifacts/python-split_1631566923692/work/Objects/call.c:436\n",
      "65# _PyEval_EvalFrameDefault at /home/conda/feedstock_root/build_artifacts/python-split_1631566923692/work/Python/ceval.c:3469\n",
      "66# _PyFunction_Vectorcall at /home/conda/feedstock_root/build_artifacts/python-split_1631566923692/work/Objects/call.c:411\n",
      "67# method_vectorcall at /home/conda/feedstock_root/build_artifacts/python-split_1631566923692/work/Objects/classobject.c:89\n",
      "68# PyObject_Call at /home/conda/feedstock_root/build_artifacts/python-split_1631566923692/work/Objects/call.c:228\n",
      "69# _PyEval_EvalFrameDefault at /home/conda/feedstock_root/build_artifacts/python-split_1631566923692/work/Python/ceval.c:3559\n",
      "70# _PyEval_EvalCodeWithName at /home/conda/feedstock_root/build_artifacts/python-split_1631566923692/work/Python/ceval.c:4298\n",
      "71# _PyFunction_Vectorcall at /home/conda/feedstock_root/build_artifacts/python-split_1631566923692/work/Objects/call.c:436\n",
      "72# _PyObject_FastCallDict at /home/conda/feedstock_root/build_artifacts/python-split_1631566923692/work/Objects/call.c:105\n",
      "73# _PyObject_Call_Prepend at /home/conda/feedstock_root/build_artifacts/python-split_1631566923692/work/Objects/call.c:895\n",
      "74# slot_tp_call at /home/conda/feedstock_root/build_artifacts/python-split_1631566923692/work/Objects/typeobject.c:6562\n",
      "75# PyObject_Call at /home/conda/feedstock_root/build_artifacts/python-split_1631566923692/work/Objects/call.c:248\n",
      "76# _PyEval_EvalFrameDefault at /home/conda/feedstock_root/build_artifacts/python-split_1631566923692/work/Python/ceval.c:3559\n",
      "77# _PyEval_EvalCodeWithName at /home/conda/feedstock_root/build_artifacts/python-split_1631566923692/work/Python/ceval.c:4298\n",
      "78# _PyFunction_Vectorcall at /home/conda/feedstock_root/build_artifacts/python-split_1631566923692/work/Objects/call.c:436\n",
      "79# PyObject_Call at /home/conda/feedstock_root/build_artifacts/python-split_1631566923692/work/Objects/call.c:228\n",
      "80# _PyEval_EvalFrameDefault at /home/conda/feedstock_root/build_artifacts/python-split_1631566923692/work/Python/ceval.c:3559\n",
      "81# _PyEval_EvalCodeWithName at /home/conda/feedstock_root/build_artifacts/python-split_1631566923692/work/Python/ceval.c:4298\n",
      "82# method_vectorcall at /home/conda/feedstock_root/build_artifacts/python-split_1631566923692/work/Objects/classobject.c:60\n",
      "83# _PyEval_EvalFrameDefault at /home/conda/feedstock_root/build_artifacts/python-split_1631566923692/work/Python/ceval.c:3469\n",
      "84# _PyFunction_Vectorcall at /home/conda/feedstock_root/build_artifacts/python-split_1631566923692/work/Objects/call.c:411\n",
      "85# PyObject_Call at /home/conda/feedstock_root/build_artifacts/python-split_1631566923692/work/Objects/call.c:228\n",
      "86# _PyEval_EvalFrameDefault at /home/conda/feedstock_root/build_artifacts/python-split_1631566923692/work/Python/ceval.c:3559\n",
      "87# _PyEval_EvalCodeWithName at /home/conda/feedstock_root/build_artifacts/python-split_1631566923692/work/Python/ceval.c:4298\n",
      "88# method_vectorcall at /home/conda/feedstock_root/build_artifacts/python-split_1631566923692/work/Objects/classobject.c:60\n",
      "89# _PyEval_EvalFrameDefault at /home/conda/feedstock_root/build_artifacts/python-split_1631566923692/work/Python/ceval.c:3469\n",
      "90# _PyEval_EvalCodeWithName at /home/conda/feedstock_root/build_artifacts/python-split_1631566923692/work/Python/ceval.c:4298\n",
      "91# _PyObject_FastCallDict at /home/conda/feedstock_root/build_artifacts/python-split_1631566923692/work/Objects/call.c:96\n",
      "92# _PyObject_Call_Prepend at /home/conda/feedstock_root/build_artifacts/python-split_1631566923692/work/Objects/call.c:895\n",
      "93# slot_tp_call at /home/conda/feedstock_root/build_artifacts/python-split_1631566923692/work/Objects/typeobject.c:6562\n",
      "94# _PyObject_MakeTpCall at /home/conda/feedstock_root/build_artifacts/python-split_1631566923692/work/Objects/call.c:159\n",
      "95# _PyEval_EvalFrameDefault at /home/conda/feedstock_root/build_artifacts/python-split_1631566923692/work/Python/ceval.c:3500\n",
      "96# _PyEval_EvalCodeWithName at /home/conda/feedstock_root/build_artifacts/python-split_1631566923692/work/Python/ceval.c:4298\n",
      "97# PyEval_EvalCodeEx at /home/conda/feedstock_root/build_artifacts/python-split_1631566923692/work/Python/ceval.c:4334\n",
      "98# PyEval_EvalCode at /home/conda/feedstock_root/build_artifacts/python-split_1631566923692/work/Python/ceval.c:724\n",
      "99# builtin_exec at /home/conda/feedstock_root/build_artifacts/python-split_1631566923692/work/Python/clinic/bltinmodule.c.h:396\n",
      "\n",
      "[15:34:16.070] [poptorch:cpp] [trace] uncheckedSetDevice: current ipu:0 new ipu:0\n"
     ]
    },
    {
     "ename": "Error",
     "evalue": "In poptorch/source/dispatch_tracer/TypeInferenceHandler.cpp:123: 'poptorch_cpp_error': Expected an IPU tensor but got tensor(device=cpu, shape=[], dtype=Float).\nConstant tensors should be moved explicitly to the IPU, via cpu_tensor.to(\"ipu\").",
     "output_type": "error",
     "traceback": [
      "\u001b[0;31m---------------------------------------------------------------------------\u001b[0m",
      "\u001b[0;31mError\u001b[0m                                     Traceback (most recent call last)",
      "Cell \u001b[0;32mIn[12], line 16\u001b[0m\n\u001b[1;32m     14\u001b[0m m \u001b[39m=\u001b[39m poptorch\u001b[39m.\u001b[39minferenceModel(m, opts)\n\u001b[1;32m     15\u001b[0m x \u001b[39m=\u001b[39m torch\u001b[39m.\u001b[39mlinspace(\u001b[39m1\u001b[39m, \u001b[39m5\u001b[39m, \u001b[39m4\u001b[39m, requires_grad\u001b[39m=\u001b[39m\u001b[39mFalse\u001b[39;00m)\n\u001b[0;32m---> 16\u001b[0m m(x)\n",
      "File \u001b[0;32m~/miniforge3/envs/hydronet/lib/python3.8/site-packages/poptorch/_poplar_executor.py:1151\u001b[0m, in \u001b[0;36mPoplarExecutor.__call__\u001b[0;34m(self, *args, **kwargs)\u001b[0m\n\u001b[1;32m   1148\u001b[0m in_tensors \u001b[39m=\u001b[39m \u001b[39mself\u001b[39m\u001b[39m.\u001b[39m_args_parser(args, kwargs, \u001b[39mself\u001b[39m\u001b[39m.\u001b[39misCompiled())\n\u001b[1;32m   1150\u001b[0m \u001b[39mif\u001b[39;00m \u001b[39mnot\u001b[39;00m \u001b[39mself\u001b[39m\u001b[39m.\u001b[39misCompiled():\n\u001b[0;32m-> 1151\u001b[0m     \u001b[39mself\u001b[39;49m\u001b[39m.\u001b[39;49m_compile(in_tensors)\n\u001b[1;32m   1153\u001b[0m \u001b[39mif\u001b[39;00m \u001b[39mnot\u001b[39;00m \u001b[39mself\u001b[39m\u001b[39m.\u001b[39m_is_attached:\n\u001b[1;32m   1154\u001b[0m     \u001b[39mself\u001b[39m\u001b[39m.\u001b[39mattachToDevice()\n",
      "File \u001b[0;32m~/miniforge3/envs/hydronet/lib/python3.8/site-packages/poptorch/_impl.py:358\u001b[0m, in \u001b[0;36mtraceMethod.<locals>.decorator.<locals>.wrapper\u001b[0;34m(self, *args, **kwargs)\u001b[0m\n\u001b[1;32m    355\u001b[0m \u001b[39m@wraps\u001b[39m(func)\n\u001b[1;32m    356\u001b[0m \u001b[39mdef\u001b[39;00m \u001b[39mwrapper\u001b[39m(\u001b[39mself\u001b[39m, \u001b[39m*\u001b[39margs, \u001b[39m*\u001b[39m\u001b[39m*\u001b[39mkwargs):\n\u001b[1;32m    357\u001b[0m     \u001b[39mwith\u001b[39;00m \u001b[39mself\u001b[39m\u001b[39m.\u001b[39m_profiling\u001b[39m.\u001b[39mtracepoint(label):  \u001b[39m# pylint: disable=protected-access\u001b[39;00m\n\u001b[0;32m--> 358\u001b[0m         \u001b[39mreturn\u001b[39;00m func(\u001b[39mself\u001b[39;49m, \u001b[39m*\u001b[39;49margs, \u001b[39m*\u001b[39;49m\u001b[39m*\u001b[39;49mkwargs)\n",
      "File \u001b[0;32m~/miniforge3/envs/hydronet/lib/python3.8/site-packages/poptorch/_poplar_executor.py:911\u001b[0m, in \u001b[0;36mPoplarExecutor._compile\u001b[0;34m(self, in_tensors)\u001b[0m\n\u001b[1;32m    907\u001b[0m \u001b[39m# In distributed execution mode:\u001b[39;00m\n\u001b[1;32m    908\u001b[0m \u001b[39m# At that point only the first process will have a compiled executable:\u001b[39;00m\n\u001b[1;32m    909\u001b[0m \u001b[39m# trigger the compilation process in all the other processes.\u001b[39;00m\n\u001b[1;32m    910\u001b[0m \u001b[39mif\u001b[39;00m \u001b[39mnot\u001b[39;00m \u001b[39mself\u001b[39m\u001b[39m.\u001b[39misCompiled():\n\u001b[0;32m--> 911\u001b[0m     \u001b[39mself\u001b[39m\u001b[39m.\u001b[39m_executable \u001b[39m=\u001b[39m \u001b[39mself\u001b[39;49m\u001b[39m.\u001b[39;49m_compileWithDispatch(in_tensors_trace_view)\n\u001b[1;32m    913\u001b[0m \u001b[39m# Load the engine and connect the streams in all the processes.\u001b[39;00m\n\u001b[1;32m    914\u001b[0m \u001b[39m#\u001b[39;00m\n\u001b[1;32m    915\u001b[0m \u001b[39m# Note: no sync point was added because we expect the above\u001b[39;00m\n\u001b[0;32m   (...)\u001b[0m\n\u001b[1;32m    923\u001b[0m \u001b[39m# to enable executable caching to avoid out of memory issues due\u001b[39;00m\n\u001b[1;32m    924\u001b[0m \u001b[39m# to concurrent compilation processes.\u001b[39;00m\n\u001b[1;32m    925\u001b[0m \u001b[39mif\u001b[39;00m \u001b[39mself\u001b[39m\u001b[39m.\u001b[39m_options\u001b[39m.\u001b[39mconnection_type \u001b[39m!=\u001b[39m enums\u001b[39m.\u001b[39mConnectionType\u001b[39m.\u001b[39mNever:\n",
      "File \u001b[0;32m~/miniforge3/envs/hydronet/lib/python3.8/site-packages/poptorch/_impl.py:164\u001b[0m, in \u001b[0;36mdestroyDispatcherOnExit.<locals>.wrapper\u001b[0;34m(*args, **kwargs)\u001b[0m\n\u001b[1;32m    161\u001b[0m \u001b[39m@wraps\u001b[39m(func)\n\u001b[1;32m    162\u001b[0m \u001b[39mdef\u001b[39;00m \u001b[39mwrapper\u001b[39m(\u001b[39m*\u001b[39margs, \u001b[39m*\u001b[39m\u001b[39m*\u001b[39mkwargs):\n\u001b[1;32m    163\u001b[0m     \u001b[39mwith\u001b[39;00m OnExit():\n\u001b[0;32m--> 164\u001b[0m         \u001b[39mreturn\u001b[39;00m func(\u001b[39m*\u001b[39;49margs, \u001b[39m*\u001b[39;49m\u001b[39m*\u001b[39;49mkwargs)\n",
      "File \u001b[0;32m~/miniforge3/envs/hydronet/lib/python3.8/site-packages/poptorch/_poplar_executor.py:787\u001b[0m, in \u001b[0;36mPoplarExecutor._compileWithDispatch\u001b[0;34m(self, in_tensors, executable_filename)\u001b[0m\n\u001b[1;32m    783\u001b[0m \u001b[39m# Re-inject moved tensors in args and kwargs:\u001b[39;00m\n\u001b[1;32m    784\u001b[0m args, kwargs \u001b[39m=\u001b[39m reconstructTensorStructure(\n\u001b[1;32m    785\u001b[0m     (in_tensors\u001b[39m.\u001b[39margs, in_tensors\u001b[39m.\u001b[39mkwargs), tensor_args)\n\u001b[0;32m--> 787\u001b[0m result \u001b[39m=\u001b[39m \u001b[39mself\u001b[39;49m\u001b[39m.\u001b[39;49m_model(\u001b[39m*\u001b[39;49margs, \u001b[39m*\u001b[39;49m\u001b[39m*\u001b[39;49mkwargs)\n\u001b[1;32m    788\u001b[0m \u001b[39mif\u001b[39;00m result \u001b[39mis\u001b[39;00m \u001b[39mnot\u001b[39;00m \u001b[39mNone\u001b[39;00m:\n\u001b[1;32m    789\u001b[0m     \u001b[39mself\u001b[39m\u001b[39m.\u001b[39m_outputs_structure \u001b[39m=\u001b[39m result\n",
      "File \u001b[0;32m~/miniforge3/envs/hydronet/lib/python3.8/site-packages/torch/nn/modules/module.py:1190\u001b[0m, in \u001b[0;36mModule._call_impl\u001b[0;34m(self, *input, **kwargs)\u001b[0m\n\u001b[1;32m   1186\u001b[0m \u001b[39m# If we don't have any hooks, we want to skip the rest of the logic in\u001b[39;00m\n\u001b[1;32m   1187\u001b[0m \u001b[39m# this function, and just call forward.\u001b[39;00m\n\u001b[1;32m   1188\u001b[0m \u001b[39mif\u001b[39;00m \u001b[39mnot\u001b[39;00m (\u001b[39mself\u001b[39m\u001b[39m.\u001b[39m_backward_hooks \u001b[39mor\u001b[39;00m \u001b[39mself\u001b[39m\u001b[39m.\u001b[39m_forward_hooks \u001b[39mor\u001b[39;00m \u001b[39mself\u001b[39m\u001b[39m.\u001b[39m_forward_pre_hooks \u001b[39mor\u001b[39;00m _global_backward_hooks\n\u001b[1;32m   1189\u001b[0m         \u001b[39mor\u001b[39;00m _global_forward_hooks \u001b[39mor\u001b[39;00m _global_forward_pre_hooks):\n\u001b[0;32m-> 1190\u001b[0m     \u001b[39mreturn\u001b[39;00m forward_call(\u001b[39m*\u001b[39;49m\u001b[39minput\u001b[39;49m, \u001b[39m*\u001b[39;49m\u001b[39m*\u001b[39;49mkwargs)\n\u001b[1;32m   1191\u001b[0m \u001b[39m# Do not call functions when jit is used\u001b[39;00m\n\u001b[1;32m   1192\u001b[0m full_backward_hooks, non_full_backward_hooks \u001b[39m=\u001b[39m [], []\n",
      "Cell \u001b[0;32mIn[12], line 7\u001b[0m, in \u001b[0;36mmodule.forward\u001b[0;34m(self, x)\u001b[0m\n\u001b[1;32m      6\u001b[0m \u001b[39mdef\u001b[39;00m \u001b[39mforward\u001b[39m(\u001b[39mself\u001b[39m, x):\n\u001b[0;32m----> 7\u001b[0m     \u001b[39mreturn\u001b[39;00m \u001b[39mself\u001b[39;49m\u001b[39m.\u001b[39;49mmodel(x)\n",
      "File \u001b[0;32m~/miniforge3/envs/hydronet/lib/python3.8/site-packages/functorch/_src/aot_autograd.py:664\u001b[0m, in \u001b[0;36maot_function.<locals>.returned_function\u001b[0;34m(*args, **kwargs)\u001b[0m\n\u001b[1;32m    661\u001b[0m     cached_res \u001b[39m=\u001b[39m (compiled_fn, out_spec)\n\u001b[1;32m    663\u001b[0m cached_fn, out_spec \u001b[39m=\u001b[39m cached_res\n\u001b[0;32m--> 664\u001b[0m out \u001b[39m=\u001b[39m cached_fn(flat_args)\n\u001b[1;32m    665\u001b[0m \u001b[39mreturn\u001b[39;00m out_spec\u001b[39m.\u001b[39munflatten(out)\n",
      "File \u001b[0;32m~/miniforge3/envs/hydronet/lib/python3.8/site-packages/functorch/_src/aot_autograd.py:229\u001b[0m, in \u001b[0;36mmake_boxed_func.<locals>.g\u001b[0;34m(args)\u001b[0m\n\u001b[1;32m    228\u001b[0m \u001b[39mdef\u001b[39;00m \u001b[39mg\u001b[39m(args):\n\u001b[0;32m--> 229\u001b[0m     \u001b[39mreturn\u001b[39;00m f(\u001b[39m*\u001b[39;49margs)\n",
      "File \u001b[0;32m~/miniforge3/envs/hydronet/lib/python3.8/site-packages/functorch/_src/aot_autograd.py:434\u001b[0m, in \u001b[0;36maot_dispatch_autograd.<locals>.compiled_function\u001b[0;34m(*args)\u001b[0m\n\u001b[1;32m    432\u001b[0m \u001b[39m@wraps\u001b[39m(CompiledFunction\u001b[39m.\u001b[39mapply)\n\u001b[1;32m    433\u001b[0m \u001b[39mdef\u001b[39;00m \u001b[39mcompiled_function\u001b[39m(\u001b[39m*\u001b[39margs):\n\u001b[0;32m--> 434\u001b[0m     \u001b[39mreturn\u001b[39;00m CompiledFunction\u001b[39m.\u001b[39;49mapply(\u001b[39m*\u001b[39;49mremove_dupe_args(args))\n",
      "File \u001b[0;32m~/miniforge3/envs/hydronet/lib/python3.8/site-packages/functorch/_src/aot_autograd.py:408\u001b[0m, in \u001b[0;36maot_dispatch_autograd.<locals>.CompiledFunction.forward\u001b[0;34m(ctx, *deduped_flat_tensor_args)\u001b[0m\n\u001b[1;32m    405\u001b[0m \u001b[39m@staticmethod\u001b[39m\n\u001b[1;32m    406\u001b[0m \u001b[39m@disable_torchdynamo\u001b[39m\n\u001b[1;32m    407\u001b[0m \u001b[39mdef\u001b[39;00m \u001b[39mforward\u001b[39m(ctx, \u001b[39m*\u001b[39mdeduped_flat_tensor_args):\n\u001b[0;32m--> 408\u001b[0m     fw_outs \u001b[39m=\u001b[39m call_func_with_args(\n\u001b[1;32m    409\u001b[0m         CompiledFunction\u001b[39m.\u001b[39;49mcompiled_fw, deduped_flat_tensor_args\n\u001b[1;32m    410\u001b[0m     )\n\u001b[1;32m    411\u001b[0m     num_outs \u001b[39m=\u001b[39m CompiledFunction\u001b[39m.\u001b[39mnum_outs\n\u001b[1;32m    412\u001b[0m     ctx\u001b[39m.\u001b[39msave_for_backward(\u001b[39m*\u001b[39mfw_outs[num_outs:])\n",
      "File \u001b[0;32m~/miniforge3/envs/hydronet/lib/python3.8/site-packages/functorch/_src/aot_autograd.py:260\u001b[0m, in \u001b[0;36mcall_func_with_args\u001b[0;34m(f, args, steal_args)\u001b[0m\n\u001b[1;32m    252\u001b[0m \u001b[39melse\u001b[39;00m:\n\u001b[1;32m    253\u001b[0m     \u001b[39m# TODO: Please remove soon\u001b[39;00m\n\u001b[1;32m    254\u001b[0m     \u001b[39m# https://github.com/pytorch/pytorch/pull/83137#issuecomment-1211320670\u001b[39;00m\n\u001b[1;32m    255\u001b[0m     warnings\u001b[39m.\u001b[39mwarn(\n\u001b[1;32m    256\u001b[0m         \u001b[39m\"\u001b[39m\u001b[39mYour compiler for AOTAutograd is returning a a function that doesn\u001b[39m\u001b[39m'\u001b[39m\u001b[39mt take boxed arguments. \u001b[39m\u001b[39m\"\u001b[39m\n\u001b[1;32m    257\u001b[0m         \u001b[39m\"\u001b[39m\u001b[39mPlease wrap it with functorch.compile.make_boxed_func or handle the boxed arguments yourself. \u001b[39m\u001b[39m\"\u001b[39m\n\u001b[1;32m    258\u001b[0m         \u001b[39m\"\u001b[39m\u001b[39mSee https://github.com/pytorch/pytorch/pull/83137#issuecomment-1211320670 for rationale.\u001b[39m\u001b[39m\"\u001b[39m\n\u001b[1;32m    259\u001b[0m     )\n\u001b[0;32m--> 260\u001b[0m     out \u001b[39m=\u001b[39m normalize_as_list(f(\u001b[39m*\u001b[39;49margs))\n\u001b[1;32m    261\u001b[0m \u001b[39mreturn\u001b[39;00m out\n",
      "File \u001b[0;32m~/miniforge3/envs/hydronet/lib/python3.8/site-packages/torch/fx/graph_module.py:658\u001b[0m, in \u001b[0;36mGraphModule.recompile.<locals>.call_wrapped\u001b[0;34m(self, *args, **kwargs)\u001b[0m\n\u001b[1;32m    657\u001b[0m \u001b[39mdef\u001b[39;00m \u001b[39mcall_wrapped\u001b[39m(\u001b[39mself\u001b[39m, \u001b[39m*\u001b[39margs, \u001b[39m*\u001b[39m\u001b[39m*\u001b[39mkwargs):\n\u001b[0;32m--> 658\u001b[0m     \u001b[39mreturn\u001b[39;00m \u001b[39mself\u001b[39;49m\u001b[39m.\u001b[39;49m_wrapped_call(\u001b[39mself\u001b[39;49m, \u001b[39m*\u001b[39;49margs, \u001b[39m*\u001b[39;49m\u001b[39m*\u001b[39;49mkwargs)\n",
      "File \u001b[0;32m~/miniforge3/envs/hydronet/lib/python3.8/site-packages/torch/fx/graph_module.py:277\u001b[0m, in \u001b[0;36m_WrappedCall.__call__\u001b[0;34m(self, obj, *args, **kwargs)\u001b[0m\n\u001b[1;32m    275\u001b[0m     \u001b[39mraise\u001b[39;00m e\u001b[39m.\u001b[39mwith_traceback(\u001b[39mNone\u001b[39;00m)\n\u001b[1;32m    276\u001b[0m \u001b[39melse\u001b[39;00m:\n\u001b[0;32m--> 277\u001b[0m     \u001b[39mraise\u001b[39;00m e\n",
      "File \u001b[0;32m~/miniforge3/envs/hydronet/lib/python3.8/site-packages/torch/fx/graph_module.py:267\u001b[0m, in \u001b[0;36m_WrappedCall.__call__\u001b[0;34m(self, obj, *args, **kwargs)\u001b[0m\n\u001b[1;32m    265\u001b[0m         \u001b[39mreturn\u001b[39;00m \u001b[39mself\u001b[39m\u001b[39m.\u001b[39mcls_call(obj, \u001b[39m*\u001b[39margs, \u001b[39m*\u001b[39m\u001b[39m*\u001b[39mkwargs)\n\u001b[1;32m    266\u001b[0m     \u001b[39melse\u001b[39;00m:\n\u001b[0;32m--> 267\u001b[0m         \u001b[39mreturn\u001b[39;00m \u001b[39msuper\u001b[39;49m(\u001b[39mself\u001b[39;49m\u001b[39m.\u001b[39;49mcls, obj)\u001b[39m.\u001b[39;49m\u001b[39m__call__\u001b[39;49m(\u001b[39m*\u001b[39;49margs, \u001b[39m*\u001b[39;49m\u001b[39m*\u001b[39;49mkwargs)  \u001b[39m# type: ignore[misc]\u001b[39;00m\n\u001b[1;32m    268\u001b[0m \u001b[39mexcept\u001b[39;00m \u001b[39mException\u001b[39;00m \u001b[39mas\u001b[39;00m e:\n\u001b[1;32m    269\u001b[0m     \u001b[39massert\u001b[39;00m e\u001b[39m.\u001b[39m__traceback__\n",
      "File \u001b[0;32m~/miniforge3/envs/hydronet/lib/python3.8/site-packages/torch/nn/modules/module.py:1190\u001b[0m, in \u001b[0;36mModule._call_impl\u001b[0;34m(self, *input, **kwargs)\u001b[0m\n\u001b[1;32m   1186\u001b[0m \u001b[39m# If we don't have any hooks, we want to skip the rest of the logic in\u001b[39;00m\n\u001b[1;32m   1187\u001b[0m \u001b[39m# this function, and just call forward.\u001b[39;00m\n\u001b[1;32m   1188\u001b[0m \u001b[39mif\u001b[39;00m \u001b[39mnot\u001b[39;00m (\u001b[39mself\u001b[39m\u001b[39m.\u001b[39m_backward_hooks \u001b[39mor\u001b[39;00m \u001b[39mself\u001b[39m\u001b[39m.\u001b[39m_forward_hooks \u001b[39mor\u001b[39;00m \u001b[39mself\u001b[39m\u001b[39m.\u001b[39m_forward_pre_hooks \u001b[39mor\u001b[39;00m _global_backward_hooks\n\u001b[1;32m   1189\u001b[0m         \u001b[39mor\u001b[39;00m _global_forward_hooks \u001b[39mor\u001b[39;00m _global_forward_pre_hooks):\n\u001b[0;32m-> 1190\u001b[0m     \u001b[39mreturn\u001b[39;00m forward_call(\u001b[39m*\u001b[39;49m\u001b[39minput\u001b[39;49m, \u001b[39m*\u001b[39;49m\u001b[39m*\u001b[39;49mkwargs)\n\u001b[1;32m   1191\u001b[0m \u001b[39m# Do not call functions when jit is used\u001b[39;00m\n\u001b[1;32m   1192\u001b[0m full_backward_hooks, non_full_backward_hooks \u001b[39m=\u001b[39m [], []\n",
      "File \u001b[0;32m<eval_with_key>.15:6\u001b[0m, in \u001b[0;36mforward\u001b[0;34m(self, primals_1)\u001b[0m\n\u001b[1;32m      4\u001b[0m \u001b[39mdef\u001b[39;00m \u001b[39mforward\u001b[39m(\u001b[39mself\u001b[39m, primals_1):\n\u001b[1;32m      5\u001b[0m     _tensor_constant6 \u001b[39m=\u001b[39m \u001b[39mself\u001b[39m\u001b[39m.\u001b[39m_tensor_constant6\n\u001b[0;32m----> 6\u001b[0m     div_tensor \u001b[39m=\u001b[39m torch\u001b[39m.\u001b[39;49mops\u001b[39m.\u001b[39;49maten\u001b[39m.\u001b[39;49mdiv\u001b[39m.\u001b[39;49mTensor(_tensor_constant6, primals_1);  _tensor_constant6 \u001b[39m=\u001b[39m \u001b[39mNone\u001b[39;00m\n\u001b[1;32m      7\u001b[0m     pow_tensor_scalar \u001b[39m=\u001b[39m torch\u001b[39m.\u001b[39mops\u001b[39m.\u001b[39maten\u001b[39m.\u001b[39mpow\u001b[39m.\u001b[39mTensor_Scalar(div_tensor, \u001b[39m2\u001b[39m)\n\u001b[1;32m      8\u001b[0m     mul_tensor \u001b[39m=\u001b[39m torch\u001b[39m.\u001b[39mops\u001b[39m.\u001b[39maten\u001b[39m.\u001b[39mmul\u001b[39m.\u001b[39mTensor(pow_tensor_scalar, pow_tensor_scalar)\n",
      "File \u001b[0;32m~/miniforge3/envs/hydronet/lib/python3.8/site-packages/torch/_ops.py:257\u001b[0m, in \u001b[0;36mOpOverload.__call__\u001b[0;34m(self, *args, **kwargs)\u001b[0m\n\u001b[1;32m    256\u001b[0m \u001b[39mdef\u001b[39;00m \u001b[39m__call__\u001b[39m(\u001b[39mself\u001b[39m, \u001b[39m*\u001b[39margs, \u001b[39m*\u001b[39m\u001b[39m*\u001b[39mkwargs):\n\u001b[0;32m--> 257\u001b[0m     \u001b[39mreturn\u001b[39;00m \u001b[39mself\u001b[39;49m\u001b[39m.\u001b[39;49m_op(\u001b[39m*\u001b[39;49margs, \u001b[39m*\u001b[39;49m\u001b[39m*\u001b[39;49mkwargs \u001b[39mor\u001b[39;49;00m {})\n",
      "\u001b[0;31mError\u001b[0m: In poptorch/source/dispatch_tracer/TypeInferenceHandler.cpp:123: 'poptorch_cpp_error': Expected an IPU tensor but got tensor(device=cpu, shape=[], dtype=Float).\nConstant tensors should be moved explicitly to the IPU, via cpu_tensor.to(\"ipu\")."
     ]
    }
   ],
   "source": [
    "class module(torch.nn.Module):\n",
    "    def __init__(self, func) -> None:\n",
    "        super().__init__()\n",
    "        self.model = func\n",
    "\n",
    "    def forward(self, x):\n",
    "        return self.model(x)\n",
    "\n",
    "\n",
    "poptorch.setLogLevel(0)\n",
    "m = module(f)\n",
    "opts = poptorch.Options()\n",
    "opts.useIpuModel(True)\n",
    "m = poptorch.inferenceModel(m, opts)\n",
    "x = torch.linspace(1, 5, 4, requires_grad=False)\n",
    "m(x)"
   ]
  }
 ],
 "metadata": {
  "kernelspec": {
   "display_name": "hydronet",
   "language": "python",
   "name": "python3"
  },
  "language_info": {
   "codemirror_mode": {
    "name": "ipython",
    "version": 3
   },
   "file_extension": ".py",
   "mimetype": "text/x-python",
   "name": "python",
   "nbconvert_exporter": "python",
   "pygments_lexer": "ipython3",
   "version": "3.8.10"
  },
  "orig_nbformat": 4
 },
 "nbformat": 4,
 "nbformat_minor": 2
}
